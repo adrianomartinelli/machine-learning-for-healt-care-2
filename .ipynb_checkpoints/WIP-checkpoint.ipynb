{
 "cells": [
  {
   "cell_type": "markdown",
   "metadata": {},
   "source": [
    "# COVID-19: WIP KAGGLE COMPETITION"
   ]
  },
  {
   "cell_type": "markdown",
   "metadata": {
    "collapsed": true
   },
   "source": [
    "This is a short WIP to showcase our Idea on one of the tasks of the COVID-19 KAGGLE COMPETITION:\n",
    "Namely we consider: What do we know about COVID-19 risk factors?\n",
    "https://www.kaggle.com/allen-institute-for-ai/CORD-19-research-challenge/tasks?taskId=558\n",
    "\n",
    "    \n",
    "Task Details\n",
    "\n",
    "What do we know about COVID-19 risk factors? What have we learned from epidemiological studies?\n",
    "\n",
    "Specifically, we want to know what the literature reports about:\n",
    "\n",
    "    Data on potential risks factors\n",
    "    - Smoking, pre-existing pulmonary disease\n",
    "    - Co-infections (determine whether co-existing respiratory/viral infections make the virus more transmissible or virulent) and other co-morbidities\n",
    "    - Neonates and pregnant women\n",
    "    - Socio-economic and behavioral factors to understand the economic impact of the virus and whether there were differences.\n",
    "    Transmission dynamics of the virus, including the basic reproductive number, incubation period, serial interval, modes of transmission and environmental factors\n",
    "    Severity of disease, including risk of fatality among symptomatic hospitalized patients, and high-risk patient groups\n",
    "    Susceptibility of populations\n",
    "    Public health mitigation measures that could be effective for control\n"
   ]
  },
  {
   "cell_type": "markdown",
   "metadata": {},
   "source": [
    "Our idea on this task consists of 3 steps:\n",
    "    \n",
    "1. We load (and preprocess if necessary) the data.\n",
    "2. We search for text regions mentioning the 4 mentioned topics above\n",
    "3. We use NLP (namely BERT) for text summarization of these texts\n",
    "4. We use text classification on the summarized texts to further evaluate and consolidate the literature reports\n",
    "\n",
    "\n",
    "(The above we plan to implement up to step 3, further step 4 if time allows it.)"
   ]
  },
  {
   "cell_type": "markdown",
   "metadata": {},
   "source": [
    "## Step 1"
   ]
  },
  {
   "cell_type": "code",
   "execution_count": 2,
   "metadata": {},
   "outputs": [],
   "source": [
    "import numpy as np\n",
    "import pandas as pd\n",
    "\n",
    "import os\n",
    "for dirname, _, filenames in os.walk('/kaggle/input'):\n",
    "    for filename in filenames:\n",
    "        print(os.path.join(dirname, filename))"
   ]
  },
  {
   "cell_type": "markdown",
   "metadata": {},
   "source": [
    "## Step 2"
   ]
  },
  {
   "cell_type": "code",
   "execution_count": null,
   "metadata": {},
   "outputs": [],
   "source": []
  },
  {
   "cell_type": "markdown",
   "metadata": {},
   "source": [
    "## Step 3"
   ]
  },
  {
   "cell_type": "code",
   "execution_count": null,
   "metadata": {},
   "outputs": [],
   "source": []
  }
 ],
 "metadata": {
  "kernelspec": {
   "display_name": "Python 3",
   "language": "python",
   "name": "python3"
  },
  "language_info": {
   "codemirror_mode": {
    "name": "ipython",
    "version": 3
   },
   "file_extension": ".py",
   "mimetype": "text/x-python",
   "name": "python",
   "nbconvert_exporter": "python",
   "pygments_lexer": "ipython3",
   "version": "3.6.4"
  },
  "pycharm": {
   "stem_cell": {
    "cell_type": "raw",
    "metadata": {
     "collapsed": false
    },
    "source": []
   }
  }
 },
 "nbformat": 4,
 "nbformat_minor": 1
}
