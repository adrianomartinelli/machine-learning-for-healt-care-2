{
 "cells": [
  {
   "cell_type": "markdown",
   "metadata": {},
   "source": [
    "# Report Machine Learning in Health Care - Project 2"
   ]
  },
  {
   "cell_type": "markdown",
   "metadata": {},
   "source": [
    "## Introduction"
   ]
  },
  {
   "attachments": {},
   "cell_type": "markdown",
   "metadata": {},
   "source": [
    "In this jupyter notebook we are analysing the Diabetes 130-US hospitals for years 1999-2008 data set. The dataset represents 10 years (1999-2008) of clinical care at 130 US hospitals. It includes over 50 features representing patient and hospital outcomes."
   ]
  },
  {
   "cell_type": "markdown",
   "metadata": {},
   "source": [
    "## Methods"
   ]
  },
  {
   "cell_type": "markdown",
   "metadata": {},
   "source": [
    "We started with all features and categorised them manually into text features (for NLP), irrelevant features, categorical features and numeric features. This was done based on manual inspection of the data set. We observed that many features have missing values which we all replaced with NaN. Furthermore we observed that some numeric features also have special entries in rare cases. For example the otherwise numeric feature \"diag_3\" has the some entries like \"V15\". Such values were replaced with NaN as well. \n",
    "\n",
    "Once all features were casted to the right type we imputed the missing values in the numeric features. For categorical features we regarded missing values as belonging to a nan class. All categorical features were then replaced by one hot encodings.\n",
    "\n",
    "The we used different approaches to classify the patients.\n",
    "* No NLP: This basic approch disregarded text features and simply used numeric and categorical features\n",
    "* NLP: Here we implemented different approaches as discussed in the tutorial. We filtered for stop words, used ngram (from 1, i.e Bag of Words) up to trigrams, used stemming and Tfidf transforms of the count matrix.\n",
    "\n",
    "The processed features were then used to train different classifiers like random forest classifiers, AdaBoost and SVM. We performed a 5-fold crossvalidation with the training and validation set before selecting the most promising parameters and evaluating it on the test set. For the parameter search we performed a grid serach with various parameter scans (see 'Run grid search'). "
   ]
  },
  {
   "cell_type": "markdown",
   "metadata": {},
   "source": [
    "## Results"
   ]
  },
  {
   "cell_type": "markdown",
   "metadata": {},
   "source": [
    "### No NLP"
   ]
  },
  {
   "cell_type": "markdown",
   "metadata": {},
   "source": [
    "In our first approach we disregarded the text features and only used numeric and categorical features. We observed an CV-accuracy of around 59%. The grid search did not improve this accurecy score by much."
   ]
  },
  {
   "cell_type": "markdown",
   "metadata": {},
   "source": [
    "### NLP"
   ]
  },
  {
   "cell_type": "markdown",
   "metadata": {},
   "source": [
    "The NLP approach was more exhaustive since we were playing around with differend processing pipelines.\n",
    "* Filtering stop words or not\n",
    "* Using raw count or Tfidf\n",
    "* Stemming or not\n",
    "* Degree of n-grams\n",
    "* Pooling the different text features for each patient into one string or processing them separately\n",
    "After introducing NLP processing steps we observed CV-accuracy scores of around 64% for various parameter settings."
   ]
  },
  {
   "cell_type": "markdown",
   "metadata": {},
   "source": [
    "### Best model"
   ]
  },
  {
   "cell_type": "markdown",
   "metadata": {},
   "source": [
    "Our best model was a random forest model with stop word removal, stemming, tfidf of 2-grams. We observed a accuracy of 0.6195 on the test set and "
   ]
  },
  {
   "cell_type": "markdown",
   "metadata": {},
   "source": [
    "## Discussion"
   ]
  },
  {
   "cell_type": "markdown",
   "metadata": {},
   "source": [
    "Using the NLP features did not provide a significant improvement of the accuracy score even though we used many different NLP and classifier settings. Furthermore the NLP processing introduced many features, especially when using n-grams > 1."
   ]
  },
  {
   "cell_type": "code",
   "execution_count": 11,
   "metadata": {},
   "outputs": [],
   "source": [
    "import numpy as np\n",
    "import pandas as pd"
   ]
  },
  {
   "cell_type": "code",
   "execution_count": 12,
   "metadata": {},
   "outputs": [],
   "source": [
    "df_train = pd.read_csv(\"10k_diabetes/diab_train.csv\",\n",
    "                       na_values = [\"?\", \"Not Available\", \"Not Mapped\"])\n",
    "df_test = pd.read_csv(\"10k_diabetes/diab_test.csv\")\n",
    "df_validate = pd.read_csv(\"10k_diabetes/diab_validation.csv\")"
   ]
  },
  {
   "cell_type": "code",
   "execution_count": 13,
   "metadata": {
    "scrolled": true
   },
   "outputs": [
    {
     "name": "stdout",
     "output_type": "stream",
     "text": [
      "(6000, 52)\n",
      "Unnamed: 0                   int64\n",
      "race                        object\n",
      "gender                      object\n",
      "age                         object\n",
      "weight                      object\n",
      "admission_type_id           object\n",
      "discharge_disposition_id    object\n",
      "admission_source_id         object\n",
      "time_in_hospital             int64\n",
      "payer_code                  object\n",
      "medical_specialty           object\n",
      "num_lab_procedures           int64\n",
      "num_procedures               int64\n",
      "num_medications              int64\n",
      "number_outpatient            int64\n",
      "number_emergency             int64\n",
      "number_inpatient             int64\n",
      "diag_1                      object\n",
      "diag_2                      object\n",
      "diag_3                      object\n",
      "number_diagnoses             int64\n",
      "max_glu_serum               object\n",
      "A1Cresult                   object\n",
      "metformin                   object\n",
      "repaglinide                 object\n",
      "nateglinide                 object\n",
      "chlorpropamide              object\n",
      "glimepiride                 object\n",
      "acetohexamide               object\n",
      "glipizide                   object\n",
      "glyburide                   object\n",
      "tolbutamide                 object\n",
      "pioglitazone                object\n",
      "rosiglitazone               object\n",
      "acarbose                    object\n",
      "miglitol                    object\n",
      "troglitazone                object\n",
      "tolazamide                  object\n",
      "examide                     object\n",
      "citoglipton                 object\n",
      "insulin                     object\n",
      "glyburide.metformin         object\n",
      "glipizide.metformin         object\n",
      "glimepiride.pioglitazone    object\n",
      "metformin.rosiglitazone     object\n",
      "metformin.pioglitazone      object\n",
      "change                      object\n",
      "diabetesMed                 object\n",
      "readmitted                   int64\n",
      "diag_1_desc                 object\n",
      "diag_2_desc                 object\n",
      "diag_3_desc                 object\n",
      "dtype: object\n"
     ]
    }
   ],
   "source": [
    "print(df_train.shape)\n",
    "print(df_train.dtypes)"
   ]
  },
  {
   "cell_type": "code",
   "execution_count": 14,
   "metadata": {},
   "outputs": [],
   "source": [
    "type_txt = [\"diag_1_desc\",\n",
    "           \"diag_2_desc\",\n",
    "           \"diag_3_desc\"]\n",
    "\n",
    "type_drop = [\"discharge_disposition_id\",\n",
    "           \"medical_specialty\",]\n",
    "\n",
    "type_cat = [\"race\",\n",
    "          \"gender\",\n",
    "          \"age\",\n",
    "          \"weight\",\n",
    "          \"admission_type_id\",\n",
    "        \"admission_source_id\",\n",
    "        \"payer_code\",\n",
    "          \"max_glu_serum\",\n",
    "           \"A1Cresult\",\n",
    "           \"metformin\",\n",
    "           \"repaglinide\",\n",
    "           \"nateglinide\",\n",
    "           \"chlorpropamide\",\n",
    "           \"glimepiride\",\n",
    "           \"acetohexamide\",\n",
    "           \"glipizide\",\n",
    "           \"glyburide\",\n",
    "           \"tolbutamide\",\n",
    "           \"pioglitazone\",\n",
    "           \"rosiglitazone\",\n",
    "           \"acarbose\",\n",
    "           \"miglitol\",\n",
    "           \"troglitazone\",\n",
    "           \"tolazamide\",\n",
    "           \"examide\",\n",
    "           \"citoglipton\",\n",
    "           \"insulin\",\n",
    "           \"glyburide.metformin\",\n",
    "           \"glipizide.metformin\",\n",
    "           \"glimepiride.pioglitazone\",\n",
    "           \"metformin.rosiglitazone\",\n",
    "           \"metformin.pioglitazone\",\n",
    "           \"change\",\n",
    "           \"diabetesMed\"]\n",
    "\n",
    "type_le = [\"age\", \"weight\", \"A1Cresult\"]\n",
    "\n",
    "type_int = [\"time_in_hospital\",\n",
    "           \"num_lab_procedures\",\n",
    "           \"num_procedures\",\n",
    "           \"num_medications\",\n",
    "           \"number_outpatient\",\n",
    "           \"number_emergency\",\n",
    "           \"number_inpatient\",\n",
    "           \"number_diagnoses\"]\n",
    "\n",
    "type_float = [\"diag_1\",\n",
    "             \"diag_2\",\n",
    "             \"diag_3\"]"
   ]
  },
  {
   "cell_type": "code",
   "execution_count": 15,
   "metadata": {},
   "outputs": [],
   "source": [
    "def prep_df(df, pool=True):\n",
    "    y = df[\"readmitted\"]\n",
    "    df = df.drop(columns=['readmitted', 'Unnamed: 0'])\n",
    "    df = df.drop(columns=type_drop)\n",
    "    \n",
    "    #Convert data types\n",
    "    for i in type_int:\n",
    "        #df_train[i] = df_train[i].astype('int32')\n",
    "        df[i] = pd.to_numeric(df[i], errors='coerce', downcast='integer')\n",
    "\n",
    "    for i in type_float:\n",
    "        df[i] = pd.to_numeric(df[i], errors='coerce', downcast='float')\n",
    "        \n",
    "    for i in type_txt:\n",
    "        df[i] = df[i].astype('str')\n",
    "        df[i] = df[i].str.lower()\n",
    "        \n",
    "    for i in type_cat:\n",
    "        df[i] = df[i].astype('str')\n",
    "        df[i] = df[i].str.lower()\n",
    "     \n",
    "    if pool:\n",
    "        #Combine descriptions\n",
    "        tmp = df[type_txt[0]] + \" \" + df[type_txt[1]] + \" \" + df[type_txt[2]]\n",
    "        tmp = pd.DataFrame({'description':tmp})\n",
    "        df = pd.concat([tmp, df], axis = 1)\n",
    "        df = df.drop(columns = type_txt)\n",
    "    \n",
    "    return df, y"
   ]
  },
  {
   "cell_type": "code",
   "execution_count": 26,
   "metadata": {},
   "outputs": [],
   "source": [
    "from sklearn.preprocessing import OneHotEncoder\n",
    "from sklearn.impute import SimpleImputer\n",
    "\n",
    "def get_transforms(df, impute=True, imp=\"mean\"):\n",
    "    ll = type_txt.copy()\n",
    "    ll.append('description')\n",
    "    \n",
    "    #Get features that are categorical and create oh encoding\n",
    "    ohe_mask = df.dtypes==object\n",
    "    txt_mask = [i not in ll for i in df.columns]\n",
    "    mask = [i == True and j == True for i,j in zip(txt_mask, ohe_mask.tolist())]\n",
    "    col_mask = df.columns[mask]\n",
    "    \n",
    "    #Generate OneHotEncoder\n",
    "    ohe = [OneHotEncoder().fit(df[i].values.reshape(-1,1)) for i in col_mask]\n",
    "    enc = [ohe[i].transform(df[name].values.reshape(-1,1)).toarray() for i,name in enumerate(col_mask)]\n",
    "    \n",
    "    #Concat transformed features\n",
    "    tmp = np.concatenate(enc, axis = 1)\n",
    "    tmp = pd.DataFrame(tmp, columns = ['ohe' + str(i) for i in range(tmp.shape[1])])\n",
    "    \n",
    "    #Append to dataframe and drop categorical features that have been transformed\n",
    "    df = pd.concat([df.reset_index(drop=True), tmp.reset_index(drop=True)], axis = 1)\n",
    "    df = df.drop(columns=col_mask)\n",
    "    \n",
    "    #Impute missing values\n",
    "    if impute:\n",
    "        idx = pd.isnull(df).any().tolist()\n",
    "        print(\"Impute values for the following attributes\")\n",
    "        print(df.columns[idx])\n",
    "\n",
    "        df_imp = SimpleImputer(strategy=imp).fit_transform(df.loc[:,idx])\n",
    "        df.loc[:,idx] = df_imp\n",
    "        \n",
    "    return df"
   ]
  },
  {
   "cell_type": "code",
   "execution_count": 17,
   "metadata": {},
   "outputs": [],
   "source": [
    "from nltk.corpus import stopwords\n",
    "from nltk import word_tokenize\n",
    "from nltk.stem import PorterStemmer\n",
    "\n",
    "def tokenize(x,stem = False):\n",
    "    rm_word = stopwords.words('english')\n",
    "    rm_word.extend(',')\n",
    "    \n",
    "    if stem:\n",
    "        stemmer = PorterStemmer()\n",
    "        return [stemmer.stem(i) for i in list(filter(lambda x: x not in rm_word, word_tokenize(x)))]\n",
    "    else:\n",
    "        return list(filter(lambda x: x not in rm_word, word_tokenize(x)))"
   ]
  },
  {
   "cell_type": "code",
   "execution_count": 18,
   "metadata": {},
   "outputs": [],
   "source": [
    "from sklearn.feature_extraction.text import CountVectorizer\n",
    "from sklearn.feature_extraction.text import TfidfTransformer\n",
    "\n",
    "def get_nlp(df, n_gram_range=(1,1), stem=False, tfidf=False):\n",
    "    \n",
    "    #NLP \n",
    "    tfidfTransformer = TfidfTransformer()\n",
    "    count_vect = CountVectorizer(ngram_range=n_gram_range)\n",
    "    \n",
    "    if 'description' in df.columns:\n",
    "        #Filter description and possibly stem\n",
    "        df['description'] = df['description'].apply(lambda txt: ' '.join(tokenize(txt, stem=stem)))\n",
    "\n",
    "        X_transformed = count_vect.fit_transform(df['description'].values)\n",
    "\n",
    "        if tfidf:\n",
    "            X_transformed = tfidfTransformer.fit_transform(X_transformed)\n",
    "\n",
    "        tmp = pd.DataFrame(X_transformed.A, columns = ['nlp' + str(i) for i in range(X_transformed.shape[1])])    \n",
    "        df = pd.concat([df.reset_index(drop=True), tmp.reset_index(drop=True)], axis = 1)\n",
    "        df = df.drop(columns=['description'])\n",
    "    \n",
    "    else:\n",
    "        for i in type_txt:\n",
    "            #Filter description and possibly stem\n",
    "            df[i] = df[i].apply(lambda txt: ' '.join(tokenize(txt, stem=stem)))\n",
    "\n",
    "            X_transformed = count_vect.fit_transform(df[i].values)\n",
    "\n",
    "            if tfidf:\n",
    "                X_transformed = tfidfTransformer.fit_transform(X_transformed)\n",
    "\n",
    "            tmp = pd.DataFrame(X_transformed.A, columns = [str(i) for i in range(X_transformed.shape[1])])    \n",
    "            df = pd.concat([df.reset_index(drop=True), tmp.reset_index(drop=True)], axis = 1)\n",
    "            df = df.drop(columns=[i])\n",
    "    \n",
    "    return df"
   ]
  },
  {
   "cell_type": "code",
   "execution_count": 19,
   "metadata": {},
   "outputs": [],
   "source": [
    "def split_df(DF,df,y):\n",
    "    idx = np.cumsum([i.shape[0] for i in DF])\n",
    "    X_train = df.iloc[0:idx[0],]\n",
    "    y_train = y.iloc[0:idx[0],]\n",
    "    \n",
    "    X_val = df.iloc[idx[0]:idx[1],]\n",
    "    y_val = y.iloc[idx[0]:idx[1],]\n",
    "    \n",
    "    X_test = df.iloc[idx[1]:idx[2],]\n",
    "    y_test = y.iloc[idx[1]:idx[2],]\n",
    "    \n",
    "    return X_train, y_train, X_val, y_val, X_test, y_test"
   ]
  },
  {
   "cell_type": "code",
   "execution_count": 35,
   "metadata": {},
   "outputs": [],
   "source": [
    "from sklearn.ensemble import RandomForestClassifier, AdaBoostClassifier\n",
    "from sklearn.metrics import accuracy_score\n",
    "from sklearn.metrics import confusion_matrix\n",
    "from sklearn.model_selection import ParameterGrid\n",
    "\n",
    "param_dict = {\"RandomForest\": {\n",
    "                             'max_depth': [None, 10, 50],\n",
    "                             'min_samples_split': [2, 10],\n",
    "                             'nlp': [True],\n",
    "                             'pool':[True, False],\n",
    "                             'stem': [True],\n",
    "                             'tfidf':[True],\n",
    "                             'n_gram_range': [None, (1,1), (2,2)]},\n",
    "              \"AdaBoost\": {'n_estimators': [50, 100],\n",
    "                           'learning_rate':[0.1, 1.0],\n",
    "                           'nlp': [True],\n",
    "                           'pool':[True, False],\n",
    "                           'stem': [True],\n",
    "                           'tfidf':[True],\n",
    "                           'n_gram_range': [None, (1,1), (2,2)]}\n",
    "             }\n",
    "\n",
    "param_grid_rf = list(ParameterGrid(param_dict['RandomForest']))\n",
    "param_grid_ab = list(ParameterGrid(param_dict['AdaBoost']))"
   ]
  },
  {
   "cell_type": "code",
   "execution_count": 37,
   "metadata": {},
   "outputs": [
    {
     "name": "stdout",
     "output_type": "stream",
     "text": [
      "Model params: {'max_depth': None, 'min_samples_split': 2, 'n_gram_range': None, 'nlp': True, 'pool': True, 'stem': True, 'tfidf': True}\n",
      "Index(['race', 'gender', 'age', 'weight', 'admission_type_id',\n",
      "       'admission_source_id', 'payer_code', 'max_glu_serum', 'A1Cresult',\n",
      "       'metformin', 'repaglinide', 'nateglinide', 'chlorpropamide',\n",
      "       'glimepiride', 'acetohexamide', 'glipizide', 'glyburide', 'tolbutamide',\n",
      "       'pioglitazone', 'rosiglitazone', 'acarbose', 'miglitol', 'troglitazone',\n",
      "       'tolazamide', 'examide', 'citoglipton', 'insulin',\n",
      "       'glyburide.metformin', 'glipizide.metformin',\n",
      "       'glimepiride.pioglitazone', 'metformin.rosiglitazone',\n",
      "       'metformin.pioglitazone', 'change', 'diabetesMed'],\n",
      "      dtype='object')\n",
      "Impute values for the following attributes\n",
      "Index(['diag_1', 'diag_2', 'diag_3'], dtype='object')\n"
     ]
    },
    {
     "name": "stderr",
     "output_type": "stream",
     "text": [
      "/anaconda3/lib/python3.7/site-packages/sklearn/ensemble/forest.py:246: FutureWarning: The default value of n_estimators will change from 10 in version 0.20 to 100 in 0.22.\n",
      "  \"10 in version 0.20 to 100 in 0.22.\", FutureWarning)\n",
      "/anaconda3/lib/python3.7/site-packages/sklearn/ensemble/forest.py:246: FutureWarning: The default value of n_estimators will change from 10 in version 0.20 to 100 in 0.22.\n",
      "  \"10 in version 0.20 to 100 in 0.22.\", FutureWarning)\n",
      "/anaconda3/lib/python3.7/site-packages/sklearn/ensemble/forest.py:246: FutureWarning: The default value of n_estimators will change from 10 in version 0.20 to 100 in 0.22.\n",
      "  \"10 in version 0.20 to 100 in 0.22.\", FutureWarning)\n",
      "/anaconda3/lib/python3.7/site-packages/sklearn/ensemble/forest.py:246: FutureWarning: The default value of n_estimators will change from 10 in version 0.20 to 100 in 0.22.\n",
      "  \"10 in version 0.20 to 100 in 0.22.\", FutureWarning)\n",
      "/anaconda3/lib/python3.7/site-packages/sklearn/ensemble/forest.py:246: FutureWarning: The default value of n_estimators will change from 10 in version 0.20 to 100 in 0.22.\n",
      "  \"10 in version 0.20 to 100 in 0.22.\", FutureWarning)\n"
     ]
    },
    {
     "name": "stdout",
     "output_type": "stream",
     "text": [
      "Mean: 0.5967499999999999, Std: 0.007909646009778198\n",
      "Model params: {'max_depth': None, 'min_samples_split': 2, 'n_gram_range': None, 'nlp': True, 'pool': False, 'stem': True, 'tfidf': True}\n",
      "Index(['race', 'gender', 'age', 'weight', 'admission_type_id',\n",
      "       'admission_source_id', 'payer_code', 'max_glu_serum', 'A1Cresult',\n",
      "       'metformin', 'repaglinide', 'nateglinide', 'chlorpropamide',\n",
      "       'glimepiride', 'acetohexamide', 'glipizide', 'glyburide', 'tolbutamide',\n",
      "       'pioglitazone', 'rosiglitazone', 'acarbose', 'miglitol', 'troglitazone',\n",
      "       'tolazamide', 'examide', 'citoglipton', 'insulin',\n",
      "       'glyburide.metformin', 'glipizide.metformin',\n",
      "       'glimepiride.pioglitazone', 'metformin.rosiglitazone',\n",
      "       'metformin.pioglitazone', 'change', 'diabetesMed'],\n",
      "      dtype='object')\n",
      "Impute values for the following attributes\n",
      "Index(['diag_1', 'diag_2', 'diag_3'], dtype='object')\n"
     ]
    },
    {
     "name": "stderr",
     "output_type": "stream",
     "text": [
      "/anaconda3/lib/python3.7/site-packages/sklearn/ensemble/forest.py:246: FutureWarning: The default value of n_estimators will change from 10 in version 0.20 to 100 in 0.22.\n",
      "  \"10 in version 0.20 to 100 in 0.22.\", FutureWarning)\n",
      "/anaconda3/lib/python3.7/site-packages/sklearn/ensemble/forest.py:246: FutureWarning: The default value of n_estimators will change from 10 in version 0.20 to 100 in 0.22.\n",
      "  \"10 in version 0.20 to 100 in 0.22.\", FutureWarning)\n",
      "/anaconda3/lib/python3.7/site-packages/sklearn/ensemble/forest.py:246: FutureWarning: The default value of n_estimators will change from 10 in version 0.20 to 100 in 0.22.\n",
      "  \"10 in version 0.20 to 100 in 0.22.\", FutureWarning)\n",
      "/anaconda3/lib/python3.7/site-packages/sklearn/ensemble/forest.py:246: FutureWarning: The default value of n_estimators will change from 10 in version 0.20 to 100 in 0.22.\n",
      "  \"10 in version 0.20 to 100 in 0.22.\", FutureWarning)\n",
      "/anaconda3/lib/python3.7/site-packages/sklearn/ensemble/forest.py:246: FutureWarning: The default value of n_estimators will change from 10 in version 0.20 to 100 in 0.22.\n",
      "  \"10 in version 0.20 to 100 in 0.22.\", FutureWarning)\n"
     ]
    },
    {
     "name": "stdout",
     "output_type": "stream",
     "text": [
      "Mean: 0.57925, Std: 0.0072715197861244665\n",
      "Model params: {'max_depth': None, 'min_samples_split': 2, 'n_gram_range': (1, 1), 'nlp': True, 'pool': True, 'stem': True, 'tfidf': True}\n",
      "Index(['race', 'gender', 'age', 'weight', 'admission_type_id',\n",
      "       'admission_source_id', 'payer_code', 'max_glu_serum', 'A1Cresult',\n",
      "       'metformin', 'repaglinide', 'nateglinide', 'chlorpropamide',\n",
      "       'glimepiride', 'acetohexamide', 'glipizide', 'glyburide', 'tolbutamide',\n",
      "       'pioglitazone', 'rosiglitazone', 'acarbose', 'miglitol', 'troglitazone',\n",
      "       'tolazamide', 'examide', 'citoglipton', 'insulin',\n",
      "       'glyburide.metformin', 'glipizide.metformin',\n",
      "       'glimepiride.pioglitazone', 'metformin.rosiglitazone',\n",
      "       'metformin.pioglitazone', 'change', 'diabetesMed'],\n",
      "      dtype='object')\n",
      "Impute values for the following attributes\n",
      "Index(['diag_1', 'diag_2', 'diag_3'], dtype='object')\n"
     ]
    },
    {
     "name": "stderr",
     "output_type": "stream",
     "text": [
      "/anaconda3/lib/python3.7/site-packages/sklearn/ensemble/forest.py:246: FutureWarning: The default value of n_estimators will change from 10 in version 0.20 to 100 in 0.22.\n",
      "  \"10 in version 0.20 to 100 in 0.22.\", FutureWarning)\n",
      "/anaconda3/lib/python3.7/site-packages/sklearn/ensemble/forest.py:246: FutureWarning: The default value of n_estimators will change from 10 in version 0.20 to 100 in 0.22.\n",
      "  \"10 in version 0.20 to 100 in 0.22.\", FutureWarning)\n",
      "/anaconda3/lib/python3.7/site-packages/sklearn/ensemble/forest.py:246: FutureWarning: The default value of n_estimators will change from 10 in version 0.20 to 100 in 0.22.\n",
      "  \"10 in version 0.20 to 100 in 0.22.\", FutureWarning)\n",
      "/anaconda3/lib/python3.7/site-packages/sklearn/ensemble/forest.py:246: FutureWarning: The default value of n_estimators will change from 10 in version 0.20 to 100 in 0.22.\n",
      "  \"10 in version 0.20 to 100 in 0.22.\", FutureWarning)\n",
      "/anaconda3/lib/python3.7/site-packages/sklearn/ensemble/forest.py:246: FutureWarning: The default value of n_estimators will change from 10 in version 0.20 to 100 in 0.22.\n",
      "  \"10 in version 0.20 to 100 in 0.22.\", FutureWarning)\n"
     ]
    },
    {
     "name": "stdout",
     "output_type": "stream",
     "text": [
      "Mean: 0.5900000000000001, Std: 0.013139872526017912\n",
      "Model params: {'max_depth': None, 'min_samples_split': 2, 'n_gram_range': (1, 1), 'nlp': True, 'pool': False, 'stem': True, 'tfidf': True}\n",
      "Index(['race', 'gender', 'age', 'weight', 'admission_type_id',\n",
      "       'admission_source_id', 'payer_code', 'max_glu_serum', 'A1Cresult',\n",
      "       'metformin', 'repaglinide', 'nateglinide', 'chlorpropamide',\n",
      "       'glimepiride', 'acetohexamide', 'glipizide', 'glyburide', 'tolbutamide',\n",
      "       'pioglitazone', 'rosiglitazone', 'acarbose', 'miglitol', 'troglitazone',\n",
      "       'tolazamide', 'examide', 'citoglipton', 'insulin',\n",
      "       'glyburide.metformin', 'glipizide.metformin',\n",
      "       'glimepiride.pioglitazone', 'metformin.rosiglitazone',\n",
      "       'metformin.pioglitazone', 'change', 'diabetesMed'],\n",
      "      dtype='object')\n",
      "Impute values for the following attributes\n",
      "Index(['diag_1', 'diag_2', 'diag_3'], dtype='object')\n"
     ]
    },
    {
     "name": "stderr",
     "output_type": "stream",
     "text": [
      "/anaconda3/lib/python3.7/site-packages/sklearn/ensemble/forest.py:246: FutureWarning: The default value of n_estimators will change from 10 in version 0.20 to 100 in 0.22.\n",
      "  \"10 in version 0.20 to 100 in 0.22.\", FutureWarning)\n",
      "/anaconda3/lib/python3.7/site-packages/sklearn/ensemble/forest.py:246: FutureWarning: The default value of n_estimators will change from 10 in version 0.20 to 100 in 0.22.\n",
      "  \"10 in version 0.20 to 100 in 0.22.\", FutureWarning)\n",
      "/anaconda3/lib/python3.7/site-packages/sklearn/ensemble/forest.py:246: FutureWarning: The default value of n_estimators will change from 10 in version 0.20 to 100 in 0.22.\n",
      "  \"10 in version 0.20 to 100 in 0.22.\", FutureWarning)\n",
      "/anaconda3/lib/python3.7/site-packages/sklearn/ensemble/forest.py:246: FutureWarning: The default value of n_estimators will change from 10 in version 0.20 to 100 in 0.22.\n",
      "  \"10 in version 0.20 to 100 in 0.22.\", FutureWarning)\n",
      "/anaconda3/lib/python3.7/site-packages/sklearn/ensemble/forest.py:246: FutureWarning: The default value of n_estimators will change from 10 in version 0.20 to 100 in 0.22.\n",
      "  \"10 in version 0.20 to 100 in 0.22.\", FutureWarning)\n"
     ]
    },
    {
     "name": "stdout",
     "output_type": "stream",
     "text": [
      "Mean: 0.598625, Std: 0.008342286856731803\n",
      "Model params: {'max_depth': None, 'min_samples_split': 2, 'n_gram_range': (2, 2), 'nlp': True, 'pool': True, 'stem': True, 'tfidf': True}\n",
      "Index(['race', 'gender', 'age', 'weight', 'admission_type_id',\n",
      "       'admission_source_id', 'payer_code', 'max_glu_serum', 'A1Cresult',\n",
      "       'metformin', 'repaglinide', 'nateglinide', 'chlorpropamide',\n",
      "       'glimepiride', 'acetohexamide', 'glipizide', 'glyburide', 'tolbutamide',\n",
      "       'pioglitazone', 'rosiglitazone', 'acarbose', 'miglitol', 'troglitazone',\n",
      "       'tolazamide', 'examide', 'citoglipton', 'insulin',\n",
      "       'glyburide.metformin', 'glipizide.metformin',\n",
      "       'glimepiride.pioglitazone', 'metformin.rosiglitazone',\n",
      "       'metformin.pioglitazone', 'change', 'diabetesMed'],\n",
      "      dtype='object')\n",
      "Impute values for the following attributes\n",
      "Index(['diag_1', 'diag_2', 'diag_3'], dtype='object')\n"
     ]
    },
    {
     "name": "stderr",
     "output_type": "stream",
     "text": [
      "/anaconda3/lib/python3.7/site-packages/sklearn/ensemble/forest.py:246: FutureWarning: The default value of n_estimators will change from 10 in version 0.20 to 100 in 0.22.\n",
      "  \"10 in version 0.20 to 100 in 0.22.\", FutureWarning)\n",
      "/anaconda3/lib/python3.7/site-packages/sklearn/ensemble/forest.py:246: FutureWarning: The default value of n_estimators will change from 10 in version 0.20 to 100 in 0.22.\n",
      "  \"10 in version 0.20 to 100 in 0.22.\", FutureWarning)\n",
      "/anaconda3/lib/python3.7/site-packages/sklearn/ensemble/forest.py:246: FutureWarning: The default value of n_estimators will change from 10 in version 0.20 to 100 in 0.22.\n",
      "  \"10 in version 0.20 to 100 in 0.22.\", FutureWarning)\n",
      "/anaconda3/lib/python3.7/site-packages/sklearn/ensemble/forest.py:246: FutureWarning: The default value of n_estimators will change from 10 in version 0.20 to 100 in 0.22.\n",
      "  \"10 in version 0.20 to 100 in 0.22.\", FutureWarning)\n",
      "/anaconda3/lib/python3.7/site-packages/sklearn/ensemble/forest.py:246: FutureWarning: The default value of n_estimators will change from 10 in version 0.20 to 100 in 0.22.\n",
      "  \"10 in version 0.20 to 100 in 0.22.\", FutureWarning)\n"
     ]
    },
    {
     "name": "stdout",
     "output_type": "stream",
     "text": [
      "Mean: 0.58525, Std: 0.0045859840819610686\n",
      "Model params: {'max_depth': None, 'min_samples_split': 2, 'n_gram_range': (2, 2), 'nlp': True, 'pool': False, 'stem': True, 'tfidf': True}\n",
      "Index(['race', 'gender', 'age', 'weight', 'admission_type_id',\n",
      "       'admission_source_id', 'payer_code', 'max_glu_serum', 'A1Cresult',\n",
      "       'metformin', 'repaglinide', 'nateglinide', 'chlorpropamide',\n",
      "       'glimepiride', 'acetohexamide', 'glipizide', 'glyburide', 'tolbutamide',\n",
      "       'pioglitazone', 'rosiglitazone', 'acarbose', 'miglitol', 'troglitazone',\n",
      "       'tolazamide', 'examide', 'citoglipton', 'insulin',\n",
      "       'glyburide.metformin', 'glipizide.metformin',\n",
      "       'glimepiride.pioglitazone', 'metformin.rosiglitazone',\n",
      "       'metformin.pioglitazone', 'change', 'diabetesMed'],\n",
      "      dtype='object')\n",
      "Impute values for the following attributes\n",
      "Index(['diag_1', 'diag_2', 'diag_3'], dtype='object')\n"
     ]
    },
    {
     "name": "stderr",
     "output_type": "stream",
     "text": [
      "/anaconda3/lib/python3.7/site-packages/sklearn/ensemble/forest.py:246: FutureWarning: The default value of n_estimators will change from 10 in version 0.20 to 100 in 0.22.\n",
      "  \"10 in version 0.20 to 100 in 0.22.\", FutureWarning)\n",
      "/anaconda3/lib/python3.7/site-packages/sklearn/ensemble/forest.py:246: FutureWarning: The default value of n_estimators will change from 10 in version 0.20 to 100 in 0.22.\n",
      "  \"10 in version 0.20 to 100 in 0.22.\", FutureWarning)\n",
      "/anaconda3/lib/python3.7/site-packages/sklearn/ensemble/forest.py:246: FutureWarning: The default value of n_estimators will change from 10 in version 0.20 to 100 in 0.22.\n",
      "  \"10 in version 0.20 to 100 in 0.22.\", FutureWarning)\n",
      "/anaconda3/lib/python3.7/site-packages/sklearn/ensemble/forest.py:246: FutureWarning: The default value of n_estimators will change from 10 in version 0.20 to 100 in 0.22.\n",
      "  \"10 in version 0.20 to 100 in 0.22.\", FutureWarning)\n",
      "/anaconda3/lib/python3.7/site-packages/sklearn/ensemble/forest.py:246: FutureWarning: The default value of n_estimators will change from 10 in version 0.20 to 100 in 0.22.\n",
      "  \"10 in version 0.20 to 100 in 0.22.\", FutureWarning)\n"
     ]
    },
    {
     "name": "stdout",
     "output_type": "stream",
     "text": [
      "Mean: 0.592875, Std: 0.01667989058717114\n",
      "Model params: {'max_depth': None, 'min_samples_split': 10, 'n_gram_range': None, 'nlp': True, 'pool': True, 'stem': True, 'tfidf': True}\n",
      "Index(['race', 'gender', 'age', 'weight', 'admission_type_id',\n",
      "       'admission_source_id', 'payer_code', 'max_glu_serum', 'A1Cresult',\n",
      "       'metformin', 'repaglinide', 'nateglinide', 'chlorpropamide',\n",
      "       'glimepiride', 'acetohexamide', 'glipizide', 'glyburide', 'tolbutamide',\n",
      "       'pioglitazone', 'rosiglitazone', 'acarbose', 'miglitol', 'troglitazone',\n",
      "       'tolazamide', 'examide', 'citoglipton', 'insulin',\n",
      "       'glyburide.metformin', 'glipizide.metformin',\n",
      "       'glimepiride.pioglitazone', 'metformin.rosiglitazone',\n",
      "       'metformin.pioglitazone', 'change', 'diabetesMed'],\n",
      "      dtype='object')\n",
      "Impute values for the following attributes\n",
      "Index(['diag_1', 'diag_2', 'diag_3'], dtype='object')\n"
     ]
    },
    {
     "name": "stderr",
     "output_type": "stream",
     "text": [
      "/anaconda3/lib/python3.7/site-packages/sklearn/ensemble/forest.py:246: FutureWarning: The default value of n_estimators will change from 10 in version 0.20 to 100 in 0.22.\n",
      "  \"10 in version 0.20 to 100 in 0.22.\", FutureWarning)\n",
      "/anaconda3/lib/python3.7/site-packages/sklearn/ensemble/forest.py:246: FutureWarning: The default value of n_estimators will change from 10 in version 0.20 to 100 in 0.22.\n",
      "  \"10 in version 0.20 to 100 in 0.22.\", FutureWarning)\n",
      "/anaconda3/lib/python3.7/site-packages/sklearn/ensemble/forest.py:246: FutureWarning: The default value of n_estimators will change from 10 in version 0.20 to 100 in 0.22.\n",
      "  \"10 in version 0.20 to 100 in 0.22.\", FutureWarning)\n",
      "/anaconda3/lib/python3.7/site-packages/sklearn/ensemble/forest.py:246: FutureWarning: The default value of n_estimators will change from 10 in version 0.20 to 100 in 0.22.\n",
      "  \"10 in version 0.20 to 100 in 0.22.\", FutureWarning)\n",
      "/anaconda3/lib/python3.7/site-packages/sklearn/ensemble/forest.py:246: FutureWarning: The default value of n_estimators will change from 10 in version 0.20 to 100 in 0.22.\n",
      "  \"10 in version 0.20 to 100 in 0.22.\", FutureWarning)\n"
     ]
    },
    {
     "name": "stdout",
     "output_type": "stream",
     "text": [
      "Mean: 0.585625, Std: 0.017997395644925966\n",
      "Model params: {'max_depth': None, 'min_samples_split': 10, 'n_gram_range': None, 'nlp': True, 'pool': False, 'stem': True, 'tfidf': True}\n",
      "Index(['race', 'gender', 'age', 'weight', 'admission_type_id',\n",
      "       'admission_source_id', 'payer_code', 'max_glu_serum', 'A1Cresult',\n",
      "       'metformin', 'repaglinide', 'nateglinide', 'chlorpropamide',\n",
      "       'glimepiride', 'acetohexamide', 'glipizide', 'glyburide', 'tolbutamide',\n",
      "       'pioglitazone', 'rosiglitazone', 'acarbose', 'miglitol', 'troglitazone',\n",
      "       'tolazamide', 'examide', 'citoglipton', 'insulin',\n",
      "       'glyburide.metformin', 'glipizide.metformin',\n",
      "       'glimepiride.pioglitazone', 'metformin.rosiglitazone',\n",
      "       'metformin.pioglitazone', 'change', 'diabetesMed'],\n",
      "      dtype='object')\n",
      "Impute values for the following attributes\n",
      "Index(['diag_1', 'diag_2', 'diag_3'], dtype='object')\n"
     ]
    },
    {
     "name": "stderr",
     "output_type": "stream",
     "text": [
      "/anaconda3/lib/python3.7/site-packages/sklearn/ensemble/forest.py:246: FutureWarning: The default value of n_estimators will change from 10 in version 0.20 to 100 in 0.22.\n",
      "  \"10 in version 0.20 to 100 in 0.22.\", FutureWarning)\n",
      "/anaconda3/lib/python3.7/site-packages/sklearn/ensemble/forest.py:246: FutureWarning: The default value of n_estimators will change from 10 in version 0.20 to 100 in 0.22.\n",
      "  \"10 in version 0.20 to 100 in 0.22.\", FutureWarning)\n",
      "/anaconda3/lib/python3.7/site-packages/sklearn/ensemble/forest.py:246: FutureWarning: The default value of n_estimators will change from 10 in version 0.20 to 100 in 0.22.\n",
      "  \"10 in version 0.20 to 100 in 0.22.\", FutureWarning)\n",
      "/anaconda3/lib/python3.7/site-packages/sklearn/ensemble/forest.py:246: FutureWarning: The default value of n_estimators will change from 10 in version 0.20 to 100 in 0.22.\n",
      "  \"10 in version 0.20 to 100 in 0.22.\", FutureWarning)\n",
      "/anaconda3/lib/python3.7/site-packages/sklearn/ensemble/forest.py:246: FutureWarning: The default value of n_estimators will change from 10 in version 0.20 to 100 in 0.22.\n",
      "  \"10 in version 0.20 to 100 in 0.22.\", FutureWarning)\n"
     ]
    },
    {
     "name": "stdout",
     "output_type": "stream",
     "text": [
      "Mean: 0.6014999999999999, Std: 0.01247246968326644\n",
      "Model params: {'max_depth': None, 'min_samples_split': 10, 'n_gram_range': (1, 1), 'nlp': True, 'pool': True, 'stem': True, 'tfidf': True}\n",
      "Index(['race', 'gender', 'age', 'weight', 'admission_type_id',\n",
      "       'admission_source_id', 'payer_code', 'max_glu_serum', 'A1Cresult',\n",
      "       'metformin', 'repaglinide', 'nateglinide', 'chlorpropamide',\n",
      "       'glimepiride', 'acetohexamide', 'glipizide', 'glyburide', 'tolbutamide',\n",
      "       'pioglitazone', 'rosiglitazone', 'acarbose', 'miglitol', 'troglitazone',\n",
      "       'tolazamide', 'examide', 'citoglipton', 'insulin',\n",
      "       'glyburide.metformin', 'glipizide.metformin',\n",
      "       'glimepiride.pioglitazone', 'metformin.rosiglitazone',\n",
      "       'metformin.pioglitazone', 'change', 'diabetesMed'],\n",
      "      dtype='object')\n",
      "Impute values for the following attributes\n",
      "Index(['diag_1', 'diag_2', 'diag_3'], dtype='object')\n"
     ]
    },
    {
     "name": "stderr",
     "output_type": "stream",
     "text": [
      "/anaconda3/lib/python3.7/site-packages/sklearn/ensemble/forest.py:246: FutureWarning: The default value of n_estimators will change from 10 in version 0.20 to 100 in 0.22.\n",
      "  \"10 in version 0.20 to 100 in 0.22.\", FutureWarning)\n",
      "/anaconda3/lib/python3.7/site-packages/sklearn/ensemble/forest.py:246: FutureWarning: The default value of n_estimators will change from 10 in version 0.20 to 100 in 0.22.\n",
      "  \"10 in version 0.20 to 100 in 0.22.\", FutureWarning)\n",
      "/anaconda3/lib/python3.7/site-packages/sklearn/ensemble/forest.py:246: FutureWarning: The default value of n_estimators will change from 10 in version 0.20 to 100 in 0.22.\n",
      "  \"10 in version 0.20 to 100 in 0.22.\", FutureWarning)\n",
      "/anaconda3/lib/python3.7/site-packages/sklearn/ensemble/forest.py:246: FutureWarning: The default value of n_estimators will change from 10 in version 0.20 to 100 in 0.22.\n",
      "  \"10 in version 0.20 to 100 in 0.22.\", FutureWarning)\n",
      "/anaconda3/lib/python3.7/site-packages/sklearn/ensemble/forest.py:246: FutureWarning: The default value of n_estimators will change from 10 in version 0.20 to 100 in 0.22.\n",
      "  \"10 in version 0.20 to 100 in 0.22.\", FutureWarning)\n"
     ]
    },
    {
     "name": "stdout",
     "output_type": "stream",
     "text": [
      "Mean: 0.578125, Std: 0.013020416659999779\n",
      "Model params: {'max_depth': None, 'min_samples_split': 10, 'n_gram_range': (1, 1), 'nlp': True, 'pool': False, 'stem': True, 'tfidf': True}\n",
      "Index(['race', 'gender', 'age', 'weight', 'admission_type_id',\n",
      "       'admission_source_id', 'payer_code', 'max_glu_serum', 'A1Cresult',\n",
      "       'metformin', 'repaglinide', 'nateglinide', 'chlorpropamide',\n",
      "       'glimepiride', 'acetohexamide', 'glipizide', 'glyburide', 'tolbutamide',\n",
      "       'pioglitazone', 'rosiglitazone', 'acarbose', 'miglitol', 'troglitazone',\n",
      "       'tolazamide', 'examide', 'citoglipton', 'insulin',\n",
      "       'glyburide.metformin', 'glipizide.metformin',\n",
      "       'glimepiride.pioglitazone', 'metformin.rosiglitazone',\n",
      "       'metformin.pioglitazone', 'change', 'diabetesMed'],\n",
      "      dtype='object')\n",
      "Impute values for the following attributes\n",
      "Index(['diag_1', 'diag_2', 'diag_3'], dtype='object')\n"
     ]
    },
    {
     "name": "stderr",
     "output_type": "stream",
     "text": [
      "/anaconda3/lib/python3.7/site-packages/sklearn/ensemble/forest.py:246: FutureWarning: The default value of n_estimators will change from 10 in version 0.20 to 100 in 0.22.\n",
      "  \"10 in version 0.20 to 100 in 0.22.\", FutureWarning)\n",
      "/anaconda3/lib/python3.7/site-packages/sklearn/ensemble/forest.py:246: FutureWarning: The default value of n_estimators will change from 10 in version 0.20 to 100 in 0.22.\n",
      "  \"10 in version 0.20 to 100 in 0.22.\", FutureWarning)\n",
      "/anaconda3/lib/python3.7/site-packages/sklearn/ensemble/forest.py:246: FutureWarning: The default value of n_estimators will change from 10 in version 0.20 to 100 in 0.22.\n",
      "  \"10 in version 0.20 to 100 in 0.22.\", FutureWarning)\n",
      "/anaconda3/lib/python3.7/site-packages/sklearn/ensemble/forest.py:246: FutureWarning: The default value of n_estimators will change from 10 in version 0.20 to 100 in 0.22.\n",
      "  \"10 in version 0.20 to 100 in 0.22.\", FutureWarning)\n",
      "/anaconda3/lib/python3.7/site-packages/sklearn/ensemble/forest.py:246: FutureWarning: The default value of n_estimators will change from 10 in version 0.20 to 100 in 0.22.\n",
      "  \"10 in version 0.20 to 100 in 0.22.\", FutureWarning)\n"
     ]
    },
    {
     "name": "stdout",
     "output_type": "stream",
     "text": [
      "Mean: 0.595375, Std: 0.022031937046024797\n",
      "Model params: {'max_depth': None, 'min_samples_split': 10, 'n_gram_range': (2, 2), 'nlp': True, 'pool': True, 'stem': True, 'tfidf': True}\n",
      "Index(['race', 'gender', 'age', 'weight', 'admission_type_id',\n",
      "       'admission_source_id', 'payer_code', 'max_glu_serum', 'A1Cresult',\n",
      "       'metformin', 'repaglinide', 'nateglinide', 'chlorpropamide',\n",
      "       'glimepiride', 'acetohexamide', 'glipizide', 'glyburide', 'tolbutamide',\n",
      "       'pioglitazone', 'rosiglitazone', 'acarbose', 'miglitol', 'troglitazone',\n",
      "       'tolazamide', 'examide', 'citoglipton', 'insulin',\n",
      "       'glyburide.metformin', 'glipizide.metformin',\n",
      "       'glimepiride.pioglitazone', 'metformin.rosiglitazone',\n",
      "       'metformin.pioglitazone', 'change', 'diabetesMed'],\n",
      "      dtype='object')\n",
      "Impute values for the following attributes\n",
      "Index(['diag_1', 'diag_2', 'diag_3'], dtype='object')\n"
     ]
    },
    {
     "name": "stderr",
     "output_type": "stream",
     "text": [
      "/anaconda3/lib/python3.7/site-packages/sklearn/ensemble/forest.py:246: FutureWarning: The default value of n_estimators will change from 10 in version 0.20 to 100 in 0.22.\n",
      "  \"10 in version 0.20 to 100 in 0.22.\", FutureWarning)\n",
      "/anaconda3/lib/python3.7/site-packages/sklearn/ensemble/forest.py:246: FutureWarning: The default value of n_estimators will change from 10 in version 0.20 to 100 in 0.22.\n",
      "  \"10 in version 0.20 to 100 in 0.22.\", FutureWarning)\n",
      "/anaconda3/lib/python3.7/site-packages/sklearn/ensemble/forest.py:246: FutureWarning: The default value of n_estimators will change from 10 in version 0.20 to 100 in 0.22.\n",
      "  \"10 in version 0.20 to 100 in 0.22.\", FutureWarning)\n",
      "/anaconda3/lib/python3.7/site-packages/sklearn/ensemble/forest.py:246: FutureWarning: The default value of n_estimators will change from 10 in version 0.20 to 100 in 0.22.\n",
      "  \"10 in version 0.20 to 100 in 0.22.\", FutureWarning)\n",
      "/anaconda3/lib/python3.7/site-packages/sklearn/ensemble/forest.py:246: FutureWarning: The default value of n_estimators will change from 10 in version 0.20 to 100 in 0.22.\n",
      "  \"10 in version 0.20 to 100 in 0.22.\", FutureWarning)\n"
     ]
    },
    {
     "name": "stdout",
     "output_type": "stream",
     "text": [
      "Mean: 0.5773750000000001, Std: 0.01688842058926765\n",
      "Model params: {'max_depth': None, 'min_samples_split': 10, 'n_gram_range': (2, 2), 'nlp': True, 'pool': False, 'stem': True, 'tfidf': True}\n",
      "Index(['race', 'gender', 'age', 'weight', 'admission_type_id',\n",
      "       'admission_source_id', 'payer_code', 'max_glu_serum', 'A1Cresult',\n",
      "       'metformin', 'repaglinide', 'nateglinide', 'chlorpropamide',\n",
      "       'glimepiride', 'acetohexamide', 'glipizide', 'glyburide', 'tolbutamide',\n",
      "       'pioglitazone', 'rosiglitazone', 'acarbose', 'miglitol', 'troglitazone',\n",
      "       'tolazamide', 'examide', 'citoglipton', 'insulin',\n",
      "       'glyburide.metformin', 'glipizide.metformin',\n",
      "       'glimepiride.pioglitazone', 'metformin.rosiglitazone',\n",
      "       'metformin.pioglitazone', 'change', 'diabetesMed'],\n",
      "      dtype='object')\n",
      "Impute values for the following attributes\n",
      "Index(['diag_1', 'diag_2', 'diag_3'], dtype='object')\n"
     ]
    },
    {
     "name": "stderr",
     "output_type": "stream",
     "text": [
      "/anaconda3/lib/python3.7/site-packages/sklearn/ensemble/forest.py:246: FutureWarning: The default value of n_estimators will change from 10 in version 0.20 to 100 in 0.22.\n",
      "  \"10 in version 0.20 to 100 in 0.22.\", FutureWarning)\n",
      "/anaconda3/lib/python3.7/site-packages/sklearn/ensemble/forest.py:246: FutureWarning: The default value of n_estimators will change from 10 in version 0.20 to 100 in 0.22.\n",
      "  \"10 in version 0.20 to 100 in 0.22.\", FutureWarning)\n",
      "/anaconda3/lib/python3.7/site-packages/sklearn/ensemble/forest.py:246: FutureWarning: The default value of n_estimators will change from 10 in version 0.20 to 100 in 0.22.\n",
      "  \"10 in version 0.20 to 100 in 0.22.\", FutureWarning)\n",
      "/anaconda3/lib/python3.7/site-packages/sklearn/ensemble/forest.py:246: FutureWarning: The default value of n_estimators will change from 10 in version 0.20 to 100 in 0.22.\n",
      "  \"10 in version 0.20 to 100 in 0.22.\", FutureWarning)\n",
      "/anaconda3/lib/python3.7/site-packages/sklearn/ensemble/forest.py:246: FutureWarning: The default value of n_estimators will change from 10 in version 0.20 to 100 in 0.22.\n",
      "  \"10 in version 0.20 to 100 in 0.22.\", FutureWarning)\n"
     ]
    },
    {
     "name": "stdout",
     "output_type": "stream",
     "text": [
      "Mean: 0.5825, Std: 0.027397536385594983\n",
      "Model params: {'max_depth': 10, 'min_samples_split': 2, 'n_gram_range': None, 'nlp': True, 'pool': True, 'stem': True, 'tfidf': True}\n",
      "Index(['race', 'gender', 'age', 'weight', 'admission_type_id',\n",
      "       'admission_source_id', 'payer_code', 'max_glu_serum', 'A1Cresult',\n",
      "       'metformin', 'repaglinide', 'nateglinide', 'chlorpropamide',\n",
      "       'glimepiride', 'acetohexamide', 'glipizide', 'glyburide', 'tolbutamide',\n",
      "       'pioglitazone', 'rosiglitazone', 'acarbose', 'miglitol', 'troglitazone',\n",
      "       'tolazamide', 'examide', 'citoglipton', 'insulin',\n",
      "       'glyburide.metformin', 'glipizide.metformin',\n",
      "       'glimepiride.pioglitazone', 'metformin.rosiglitazone',\n",
      "       'metformin.pioglitazone', 'change', 'diabetesMed'],\n",
      "      dtype='object')\n",
      "Impute values for the following attributes\n",
      "Index(['diag_1', 'diag_2', 'diag_3'], dtype='object')\n"
     ]
    },
    {
     "name": "stderr",
     "output_type": "stream",
     "text": [
      "/anaconda3/lib/python3.7/site-packages/sklearn/ensemble/forest.py:246: FutureWarning: The default value of n_estimators will change from 10 in version 0.20 to 100 in 0.22.\n",
      "  \"10 in version 0.20 to 100 in 0.22.\", FutureWarning)\n",
      "/anaconda3/lib/python3.7/site-packages/sklearn/ensemble/forest.py:246: FutureWarning: The default value of n_estimators will change from 10 in version 0.20 to 100 in 0.22.\n",
      "  \"10 in version 0.20 to 100 in 0.22.\", FutureWarning)\n",
      "/anaconda3/lib/python3.7/site-packages/sklearn/ensemble/forest.py:246: FutureWarning: The default value of n_estimators will change from 10 in version 0.20 to 100 in 0.22.\n",
      "  \"10 in version 0.20 to 100 in 0.22.\", FutureWarning)\n",
      "/anaconda3/lib/python3.7/site-packages/sklearn/ensemble/forest.py:246: FutureWarning: The default value of n_estimators will change from 10 in version 0.20 to 100 in 0.22.\n",
      "  \"10 in version 0.20 to 100 in 0.22.\", FutureWarning)\n",
      "/anaconda3/lib/python3.7/site-packages/sklearn/ensemble/forest.py:246: FutureWarning: The default value of n_estimators will change from 10 in version 0.20 to 100 in 0.22.\n",
      "  \"10 in version 0.20 to 100 in 0.22.\", FutureWarning)\n"
     ]
    },
    {
     "name": "stdout",
     "output_type": "stream",
     "text": [
      "Mean: 0.6172500000000001, Std: 0.006876136269737552\n",
      "Model params: {'max_depth': 10, 'min_samples_split': 2, 'n_gram_range': None, 'nlp': True, 'pool': False, 'stem': True, 'tfidf': True}\n",
      "Index(['race', 'gender', 'age', 'weight', 'admission_type_id',\n",
      "       'admission_source_id', 'payer_code', 'max_glu_serum', 'A1Cresult',\n",
      "       'metformin', 'repaglinide', 'nateglinide', 'chlorpropamide',\n",
      "       'glimepiride', 'acetohexamide', 'glipizide', 'glyburide', 'tolbutamide',\n",
      "       'pioglitazone', 'rosiglitazone', 'acarbose', 'miglitol', 'troglitazone',\n",
      "       'tolazamide', 'examide', 'citoglipton', 'insulin',\n",
      "       'glyburide.metformin', 'glipizide.metformin',\n",
      "       'glimepiride.pioglitazone', 'metformin.rosiglitazone',\n",
      "       'metformin.pioglitazone', 'change', 'diabetesMed'],\n",
      "      dtype='object')\n",
      "Impute values for the following attributes\n",
      "Index(['diag_1', 'diag_2', 'diag_3'], dtype='object')\n"
     ]
    },
    {
     "name": "stderr",
     "output_type": "stream",
     "text": [
      "/anaconda3/lib/python3.7/site-packages/sklearn/ensemble/forest.py:246: FutureWarning: The default value of n_estimators will change from 10 in version 0.20 to 100 in 0.22.\n",
      "  \"10 in version 0.20 to 100 in 0.22.\", FutureWarning)\n",
      "/anaconda3/lib/python3.7/site-packages/sklearn/ensemble/forest.py:246: FutureWarning: The default value of n_estimators will change from 10 in version 0.20 to 100 in 0.22.\n",
      "  \"10 in version 0.20 to 100 in 0.22.\", FutureWarning)\n",
      "/anaconda3/lib/python3.7/site-packages/sklearn/ensemble/forest.py:246: FutureWarning: The default value of n_estimators will change from 10 in version 0.20 to 100 in 0.22.\n",
      "  \"10 in version 0.20 to 100 in 0.22.\", FutureWarning)\n",
      "/anaconda3/lib/python3.7/site-packages/sklearn/ensemble/forest.py:246: FutureWarning: The default value of n_estimators will change from 10 in version 0.20 to 100 in 0.22.\n",
      "  \"10 in version 0.20 to 100 in 0.22.\", FutureWarning)\n",
      "/anaconda3/lib/python3.7/site-packages/sklearn/ensemble/forest.py:246: FutureWarning: The default value of n_estimators will change from 10 in version 0.20 to 100 in 0.22.\n",
      "  \"10 in version 0.20 to 100 in 0.22.\", FutureWarning)\n"
     ]
    },
    {
     "name": "stdout",
     "output_type": "stream",
     "text": [
      "Mean: 0.6050000000000001, Std: 0.018787462574813032\n",
      "Model params: {'max_depth': 10, 'min_samples_split': 2, 'n_gram_range': (1, 1), 'nlp': True, 'pool': True, 'stem': True, 'tfidf': True}\n",
      "Index(['race', 'gender', 'age', 'weight', 'admission_type_id',\n",
      "       'admission_source_id', 'payer_code', 'max_glu_serum', 'A1Cresult',\n",
      "       'metformin', 'repaglinide', 'nateglinide', 'chlorpropamide',\n",
      "       'glimepiride', 'acetohexamide', 'glipizide', 'glyburide', 'tolbutamide',\n",
      "       'pioglitazone', 'rosiglitazone', 'acarbose', 'miglitol', 'troglitazone',\n",
      "       'tolazamide', 'examide', 'citoglipton', 'insulin',\n",
      "       'glyburide.metformin', 'glipizide.metformin',\n",
      "       'glimepiride.pioglitazone', 'metformin.rosiglitazone',\n",
      "       'metformin.pioglitazone', 'change', 'diabetesMed'],\n",
      "      dtype='object')\n",
      "Impute values for the following attributes\n",
      "Index(['diag_1', 'diag_2', 'diag_3'], dtype='object')\n"
     ]
    },
    {
     "name": "stderr",
     "output_type": "stream",
     "text": [
      "/anaconda3/lib/python3.7/site-packages/sklearn/ensemble/forest.py:246: FutureWarning: The default value of n_estimators will change from 10 in version 0.20 to 100 in 0.22.\n",
      "  \"10 in version 0.20 to 100 in 0.22.\", FutureWarning)\n",
      "/anaconda3/lib/python3.7/site-packages/sklearn/ensemble/forest.py:246: FutureWarning: The default value of n_estimators will change from 10 in version 0.20 to 100 in 0.22.\n",
      "  \"10 in version 0.20 to 100 in 0.22.\", FutureWarning)\n",
      "/anaconda3/lib/python3.7/site-packages/sklearn/ensemble/forest.py:246: FutureWarning: The default value of n_estimators will change from 10 in version 0.20 to 100 in 0.22.\n",
      "  \"10 in version 0.20 to 100 in 0.22.\", FutureWarning)\n",
      "/anaconda3/lib/python3.7/site-packages/sklearn/ensemble/forest.py:246: FutureWarning: The default value of n_estimators will change from 10 in version 0.20 to 100 in 0.22.\n",
      "  \"10 in version 0.20 to 100 in 0.22.\", FutureWarning)\n",
      "/anaconda3/lib/python3.7/site-packages/sklearn/ensemble/forest.py:246: FutureWarning: The default value of n_estimators will change from 10 in version 0.20 to 100 in 0.22.\n",
      "  \"10 in version 0.20 to 100 in 0.22.\", FutureWarning)\n"
     ]
    },
    {
     "name": "stdout",
     "output_type": "stream",
     "text": [
      "Mean: 0.606375, Std: 0.021536306554281775\n",
      "Model params: {'max_depth': 10, 'min_samples_split': 2, 'n_gram_range': (1, 1), 'nlp': True, 'pool': False, 'stem': True, 'tfidf': True}\n",
      "Index(['race', 'gender', 'age', 'weight', 'admission_type_id',\n",
      "       'admission_source_id', 'payer_code', 'max_glu_serum', 'A1Cresult',\n",
      "       'metformin', 'repaglinide', 'nateglinide', 'chlorpropamide',\n",
      "       'glimepiride', 'acetohexamide', 'glipizide', 'glyburide', 'tolbutamide',\n",
      "       'pioglitazone', 'rosiglitazone', 'acarbose', 'miglitol', 'troglitazone',\n",
      "       'tolazamide', 'examide', 'citoglipton', 'insulin',\n",
      "       'glyburide.metformin', 'glipizide.metformin',\n",
      "       'glimepiride.pioglitazone', 'metformin.rosiglitazone',\n",
      "       'metformin.pioglitazone', 'change', 'diabetesMed'],\n",
      "      dtype='object')\n",
      "Impute values for the following attributes\n",
      "Index(['diag_1', 'diag_2', 'diag_3'], dtype='object')\n"
     ]
    },
    {
     "name": "stderr",
     "output_type": "stream",
     "text": [
      "/anaconda3/lib/python3.7/site-packages/sklearn/ensemble/forest.py:246: FutureWarning: The default value of n_estimators will change from 10 in version 0.20 to 100 in 0.22.\n",
      "  \"10 in version 0.20 to 100 in 0.22.\", FutureWarning)\n",
      "/anaconda3/lib/python3.7/site-packages/sklearn/ensemble/forest.py:246: FutureWarning: The default value of n_estimators will change from 10 in version 0.20 to 100 in 0.22.\n",
      "  \"10 in version 0.20 to 100 in 0.22.\", FutureWarning)\n",
      "/anaconda3/lib/python3.7/site-packages/sklearn/ensemble/forest.py:246: FutureWarning: The default value of n_estimators will change from 10 in version 0.20 to 100 in 0.22.\n",
      "  \"10 in version 0.20 to 100 in 0.22.\", FutureWarning)\n",
      "/anaconda3/lib/python3.7/site-packages/sklearn/ensemble/forest.py:246: FutureWarning: The default value of n_estimators will change from 10 in version 0.20 to 100 in 0.22.\n",
      "  \"10 in version 0.20 to 100 in 0.22.\", FutureWarning)\n",
      "/anaconda3/lib/python3.7/site-packages/sklearn/ensemble/forest.py:246: FutureWarning: The default value of n_estimators will change from 10 in version 0.20 to 100 in 0.22.\n",
      "  \"10 in version 0.20 to 100 in 0.22.\", FutureWarning)\n"
     ]
    },
    {
     "name": "stdout",
     "output_type": "stream",
     "text": [
      "Mean: 0.603, Std: 0.03697423089125724\n",
      "Model params: {'max_depth': 10, 'min_samples_split': 2, 'n_gram_range': (2, 2), 'nlp': True, 'pool': True, 'stem': True, 'tfidf': True}\n",
      "Index(['race', 'gender', 'age', 'weight', 'admission_type_id',\n",
      "       'admission_source_id', 'payer_code', 'max_glu_serum', 'A1Cresult',\n",
      "       'metformin', 'repaglinide', 'nateglinide', 'chlorpropamide',\n",
      "       'glimepiride', 'acetohexamide', 'glipizide', 'glyburide', 'tolbutamide',\n",
      "       'pioglitazone', 'rosiglitazone', 'acarbose', 'miglitol', 'troglitazone',\n",
      "       'tolazamide', 'examide', 'citoglipton', 'insulin',\n",
      "       'glyburide.metformin', 'glipizide.metformin',\n",
      "       'glimepiride.pioglitazone', 'metformin.rosiglitazone',\n",
      "       'metformin.pioglitazone', 'change', 'diabetesMed'],\n",
      "      dtype='object')\n",
      "Impute values for the following attributes\n",
      "Index(['diag_1', 'diag_2', 'diag_3'], dtype='object')\n"
     ]
    },
    {
     "name": "stderr",
     "output_type": "stream",
     "text": [
      "/anaconda3/lib/python3.7/site-packages/sklearn/ensemble/forest.py:246: FutureWarning: The default value of n_estimators will change from 10 in version 0.20 to 100 in 0.22.\n",
      "  \"10 in version 0.20 to 100 in 0.22.\", FutureWarning)\n",
      "/anaconda3/lib/python3.7/site-packages/sklearn/ensemble/forest.py:246: FutureWarning: The default value of n_estimators will change from 10 in version 0.20 to 100 in 0.22.\n",
      "  \"10 in version 0.20 to 100 in 0.22.\", FutureWarning)\n",
      "/anaconda3/lib/python3.7/site-packages/sklearn/ensemble/forest.py:246: FutureWarning: The default value of n_estimators will change from 10 in version 0.20 to 100 in 0.22.\n",
      "  \"10 in version 0.20 to 100 in 0.22.\", FutureWarning)\n",
      "/anaconda3/lib/python3.7/site-packages/sklearn/ensemble/forest.py:246: FutureWarning: The default value of n_estimators will change from 10 in version 0.20 to 100 in 0.22.\n",
      "  \"10 in version 0.20 to 100 in 0.22.\", FutureWarning)\n",
      "/anaconda3/lib/python3.7/site-packages/sklearn/ensemble/forest.py:246: FutureWarning: The default value of n_estimators will change from 10 in version 0.20 to 100 in 0.22.\n",
      "  \"10 in version 0.20 to 100 in 0.22.\", FutureWarning)\n"
     ]
    },
    {
     "name": "stdout",
     "output_type": "stream",
     "text": [
      "Mean: 0.604, Std: 0.020545680811304343\n",
      "Model params: {'max_depth': 10, 'min_samples_split': 2, 'n_gram_range': (2, 2), 'nlp': True, 'pool': False, 'stem': True, 'tfidf': True}\n",
      "Index(['race', 'gender', 'age', 'weight', 'admission_type_id',\n",
      "       'admission_source_id', 'payer_code', 'max_glu_serum', 'A1Cresult',\n",
      "       'metformin', 'repaglinide', 'nateglinide', 'chlorpropamide',\n",
      "       'glimepiride', 'acetohexamide', 'glipizide', 'glyburide', 'tolbutamide',\n",
      "       'pioglitazone', 'rosiglitazone', 'acarbose', 'miglitol', 'troglitazone',\n",
      "       'tolazamide', 'examide', 'citoglipton', 'insulin',\n",
      "       'glyburide.metformin', 'glipizide.metformin',\n",
      "       'glimepiride.pioglitazone', 'metformin.rosiglitazone',\n",
      "       'metformin.pioglitazone', 'change', 'diabetesMed'],\n",
      "      dtype='object')\n",
      "Impute values for the following attributes\n",
      "Index(['diag_1', 'diag_2', 'diag_3'], dtype='object')\n"
     ]
    },
    {
     "name": "stderr",
     "output_type": "stream",
     "text": [
      "/anaconda3/lib/python3.7/site-packages/sklearn/ensemble/forest.py:246: FutureWarning: The default value of n_estimators will change from 10 in version 0.20 to 100 in 0.22.\n",
      "  \"10 in version 0.20 to 100 in 0.22.\", FutureWarning)\n",
      "/anaconda3/lib/python3.7/site-packages/sklearn/ensemble/forest.py:246: FutureWarning: The default value of n_estimators will change from 10 in version 0.20 to 100 in 0.22.\n",
      "  \"10 in version 0.20 to 100 in 0.22.\", FutureWarning)\n",
      "/anaconda3/lib/python3.7/site-packages/sklearn/ensemble/forest.py:246: FutureWarning: The default value of n_estimators will change from 10 in version 0.20 to 100 in 0.22.\n",
      "  \"10 in version 0.20 to 100 in 0.22.\", FutureWarning)\n",
      "/anaconda3/lib/python3.7/site-packages/sklearn/ensemble/forest.py:246: FutureWarning: The default value of n_estimators will change from 10 in version 0.20 to 100 in 0.22.\n",
      "  \"10 in version 0.20 to 100 in 0.22.\", FutureWarning)\n",
      "/anaconda3/lib/python3.7/site-packages/sklearn/ensemble/forest.py:246: FutureWarning: The default value of n_estimators will change from 10 in version 0.20 to 100 in 0.22.\n",
      "  \"10 in version 0.20 to 100 in 0.22.\", FutureWarning)\n"
     ]
    },
    {
     "name": "stdout",
     "output_type": "stream",
     "text": [
      "Mean: 0.6243749999999999, Std: 0.01311606838957465\n",
      "Model params: {'max_depth': 10, 'min_samples_split': 10, 'n_gram_range': None, 'nlp': True, 'pool': True, 'stem': True, 'tfidf': True}\n",
      "Index(['race', 'gender', 'age', 'weight', 'admission_type_id',\n",
      "       'admission_source_id', 'payer_code', 'max_glu_serum', 'A1Cresult',\n",
      "       'metformin', 'repaglinide', 'nateglinide', 'chlorpropamide',\n",
      "       'glimepiride', 'acetohexamide', 'glipizide', 'glyburide', 'tolbutamide',\n",
      "       'pioglitazone', 'rosiglitazone', 'acarbose', 'miglitol', 'troglitazone',\n",
      "       'tolazamide', 'examide', 'citoglipton', 'insulin',\n",
      "       'glyburide.metformin', 'glipizide.metformin',\n",
      "       'glimepiride.pioglitazone', 'metformin.rosiglitazone',\n",
      "       'metformin.pioglitazone', 'change', 'diabetesMed'],\n",
      "      dtype='object')\n",
      "Impute values for the following attributes\n",
      "Index(['diag_1', 'diag_2', 'diag_3'], dtype='object')\n"
     ]
    },
    {
     "name": "stderr",
     "output_type": "stream",
     "text": [
      "/anaconda3/lib/python3.7/site-packages/sklearn/ensemble/forest.py:246: FutureWarning: The default value of n_estimators will change from 10 in version 0.20 to 100 in 0.22.\n",
      "  \"10 in version 0.20 to 100 in 0.22.\", FutureWarning)\n",
      "/anaconda3/lib/python3.7/site-packages/sklearn/ensemble/forest.py:246: FutureWarning: The default value of n_estimators will change from 10 in version 0.20 to 100 in 0.22.\n",
      "  \"10 in version 0.20 to 100 in 0.22.\", FutureWarning)\n",
      "/anaconda3/lib/python3.7/site-packages/sklearn/ensemble/forest.py:246: FutureWarning: The default value of n_estimators will change from 10 in version 0.20 to 100 in 0.22.\n",
      "  \"10 in version 0.20 to 100 in 0.22.\", FutureWarning)\n",
      "/anaconda3/lib/python3.7/site-packages/sklearn/ensemble/forest.py:246: FutureWarning: The default value of n_estimators will change from 10 in version 0.20 to 100 in 0.22.\n",
      "  \"10 in version 0.20 to 100 in 0.22.\", FutureWarning)\n",
      "/anaconda3/lib/python3.7/site-packages/sklearn/ensemble/forest.py:246: FutureWarning: The default value of n_estimators will change from 10 in version 0.20 to 100 in 0.22.\n",
      "  \"10 in version 0.20 to 100 in 0.22.\", FutureWarning)\n"
     ]
    },
    {
     "name": "stdout",
     "output_type": "stream",
     "text": [
      "Mean: 0.604375, Std: 0.009536115561380306\n",
      "Model params: {'max_depth': 10, 'min_samples_split': 10, 'n_gram_range': None, 'nlp': True, 'pool': False, 'stem': True, 'tfidf': True}\n",
      "Index(['race', 'gender', 'age', 'weight', 'admission_type_id',\n",
      "       'admission_source_id', 'payer_code', 'max_glu_serum', 'A1Cresult',\n",
      "       'metformin', 'repaglinide', 'nateglinide', 'chlorpropamide',\n",
      "       'glimepiride', 'acetohexamide', 'glipizide', 'glyburide', 'tolbutamide',\n",
      "       'pioglitazone', 'rosiglitazone', 'acarbose', 'miglitol', 'troglitazone',\n",
      "       'tolazamide', 'examide', 'citoglipton', 'insulin',\n",
      "       'glyburide.metformin', 'glipizide.metformin',\n",
      "       'glimepiride.pioglitazone', 'metformin.rosiglitazone',\n",
      "       'metformin.pioglitazone', 'change', 'diabetesMed'],\n",
      "      dtype='object')\n",
      "Impute values for the following attributes\n",
      "Index(['diag_1', 'diag_2', 'diag_3'], dtype='object')\n"
     ]
    },
    {
     "name": "stderr",
     "output_type": "stream",
     "text": [
      "/anaconda3/lib/python3.7/site-packages/sklearn/ensemble/forest.py:246: FutureWarning: The default value of n_estimators will change from 10 in version 0.20 to 100 in 0.22.\n",
      "  \"10 in version 0.20 to 100 in 0.22.\", FutureWarning)\n",
      "/anaconda3/lib/python3.7/site-packages/sklearn/ensemble/forest.py:246: FutureWarning: The default value of n_estimators will change from 10 in version 0.20 to 100 in 0.22.\n",
      "  \"10 in version 0.20 to 100 in 0.22.\", FutureWarning)\n",
      "/anaconda3/lib/python3.7/site-packages/sklearn/ensemble/forest.py:246: FutureWarning: The default value of n_estimators will change from 10 in version 0.20 to 100 in 0.22.\n",
      "  \"10 in version 0.20 to 100 in 0.22.\", FutureWarning)\n",
      "/anaconda3/lib/python3.7/site-packages/sklearn/ensemble/forest.py:246: FutureWarning: The default value of n_estimators will change from 10 in version 0.20 to 100 in 0.22.\n",
      "  \"10 in version 0.20 to 100 in 0.22.\", FutureWarning)\n",
      "/anaconda3/lib/python3.7/site-packages/sklearn/ensemble/forest.py:246: FutureWarning: The default value of n_estimators will change from 10 in version 0.20 to 100 in 0.22.\n",
      "  \"10 in version 0.20 to 100 in 0.22.\", FutureWarning)\n"
     ]
    },
    {
     "name": "stdout",
     "output_type": "stream",
     "text": [
      "Mean: 0.6118750000000001, Std: 0.025501225460749913\n",
      "Model params: {'max_depth': 10, 'min_samples_split': 10, 'n_gram_range': (1, 1), 'nlp': True, 'pool': True, 'stem': True, 'tfidf': True}\n",
      "Index(['race', 'gender', 'age', 'weight', 'admission_type_id',\n",
      "       'admission_source_id', 'payer_code', 'max_glu_serum', 'A1Cresult',\n",
      "       'metformin', 'repaglinide', 'nateglinide', 'chlorpropamide',\n",
      "       'glimepiride', 'acetohexamide', 'glipizide', 'glyburide', 'tolbutamide',\n",
      "       'pioglitazone', 'rosiglitazone', 'acarbose', 'miglitol', 'troglitazone',\n",
      "       'tolazamide', 'examide', 'citoglipton', 'insulin',\n",
      "       'glyburide.metformin', 'glipizide.metformin',\n",
      "       'glimepiride.pioglitazone', 'metformin.rosiglitazone',\n",
      "       'metformin.pioglitazone', 'change', 'diabetesMed'],\n",
      "      dtype='object')\n",
      "Impute values for the following attributes\n",
      "Index(['diag_1', 'diag_2', 'diag_3'], dtype='object')\n"
     ]
    },
    {
     "name": "stderr",
     "output_type": "stream",
     "text": [
      "/anaconda3/lib/python3.7/site-packages/sklearn/ensemble/forest.py:246: FutureWarning: The default value of n_estimators will change from 10 in version 0.20 to 100 in 0.22.\n",
      "  \"10 in version 0.20 to 100 in 0.22.\", FutureWarning)\n",
      "/anaconda3/lib/python3.7/site-packages/sklearn/ensemble/forest.py:246: FutureWarning: The default value of n_estimators will change from 10 in version 0.20 to 100 in 0.22.\n",
      "  \"10 in version 0.20 to 100 in 0.22.\", FutureWarning)\n",
      "/anaconda3/lib/python3.7/site-packages/sklearn/ensemble/forest.py:246: FutureWarning: The default value of n_estimators will change from 10 in version 0.20 to 100 in 0.22.\n",
      "  \"10 in version 0.20 to 100 in 0.22.\", FutureWarning)\n",
      "/anaconda3/lib/python3.7/site-packages/sklearn/ensemble/forest.py:246: FutureWarning: The default value of n_estimators will change from 10 in version 0.20 to 100 in 0.22.\n",
      "  \"10 in version 0.20 to 100 in 0.22.\", FutureWarning)\n",
      "/anaconda3/lib/python3.7/site-packages/sklearn/ensemble/forest.py:246: FutureWarning: The default value of n_estimators will change from 10 in version 0.20 to 100 in 0.22.\n",
      "  \"10 in version 0.20 to 100 in 0.22.\", FutureWarning)\n"
     ]
    },
    {
     "name": "stdout",
     "output_type": "stream",
     "text": [
      "Mean: 0.618875, Std: 0.007929375763576869\n",
      "Model params: {'max_depth': 10, 'min_samples_split': 10, 'n_gram_range': (1, 1), 'nlp': True, 'pool': False, 'stem': True, 'tfidf': True}\n",
      "Index(['race', 'gender', 'age', 'weight', 'admission_type_id',\n",
      "       'admission_source_id', 'payer_code', 'max_glu_serum', 'A1Cresult',\n",
      "       'metformin', 'repaglinide', 'nateglinide', 'chlorpropamide',\n",
      "       'glimepiride', 'acetohexamide', 'glipizide', 'glyburide', 'tolbutamide',\n",
      "       'pioglitazone', 'rosiglitazone', 'acarbose', 'miglitol', 'troglitazone',\n",
      "       'tolazamide', 'examide', 'citoglipton', 'insulin',\n",
      "       'glyburide.metformin', 'glipizide.metformin',\n",
      "       'glimepiride.pioglitazone', 'metformin.rosiglitazone',\n",
      "       'metformin.pioglitazone', 'change', 'diabetesMed'],\n",
      "      dtype='object')\n",
      "Impute values for the following attributes\n",
      "Index(['diag_1', 'diag_2', 'diag_3'], dtype='object')\n"
     ]
    },
    {
     "name": "stderr",
     "output_type": "stream",
     "text": [
      "/anaconda3/lib/python3.7/site-packages/sklearn/ensemble/forest.py:246: FutureWarning: The default value of n_estimators will change from 10 in version 0.20 to 100 in 0.22.\n",
      "  \"10 in version 0.20 to 100 in 0.22.\", FutureWarning)\n",
      "/anaconda3/lib/python3.7/site-packages/sklearn/ensemble/forest.py:246: FutureWarning: The default value of n_estimators will change from 10 in version 0.20 to 100 in 0.22.\n",
      "  \"10 in version 0.20 to 100 in 0.22.\", FutureWarning)\n",
      "/anaconda3/lib/python3.7/site-packages/sklearn/ensemble/forest.py:246: FutureWarning: The default value of n_estimators will change from 10 in version 0.20 to 100 in 0.22.\n",
      "  \"10 in version 0.20 to 100 in 0.22.\", FutureWarning)\n",
      "/anaconda3/lib/python3.7/site-packages/sklearn/ensemble/forest.py:246: FutureWarning: The default value of n_estimators will change from 10 in version 0.20 to 100 in 0.22.\n",
      "  \"10 in version 0.20 to 100 in 0.22.\", FutureWarning)\n",
      "/anaconda3/lib/python3.7/site-packages/sklearn/ensemble/forest.py:246: FutureWarning: The default value of n_estimators will change from 10 in version 0.20 to 100 in 0.22.\n",
      "  \"10 in version 0.20 to 100 in 0.22.\", FutureWarning)\n"
     ]
    },
    {
     "name": "stdout",
     "output_type": "stream",
     "text": [
      "Mean: 0.61025, Std: 0.01325589491509344\n",
      "Model params: {'max_depth': 10, 'min_samples_split': 10, 'n_gram_range': (2, 2), 'nlp': True, 'pool': True, 'stem': True, 'tfidf': True}\n",
      "Index(['race', 'gender', 'age', 'weight', 'admission_type_id',\n",
      "       'admission_source_id', 'payer_code', 'max_glu_serum', 'A1Cresult',\n",
      "       'metformin', 'repaglinide', 'nateglinide', 'chlorpropamide',\n",
      "       'glimepiride', 'acetohexamide', 'glipizide', 'glyburide', 'tolbutamide',\n",
      "       'pioglitazone', 'rosiglitazone', 'acarbose', 'miglitol', 'troglitazone',\n",
      "       'tolazamide', 'examide', 'citoglipton', 'insulin',\n",
      "       'glyburide.metformin', 'glipizide.metformin',\n",
      "       'glimepiride.pioglitazone', 'metformin.rosiglitazone',\n",
      "       'metformin.pioglitazone', 'change', 'diabetesMed'],\n",
      "      dtype='object')\n",
      "Impute values for the following attributes\n",
      "Index(['diag_1', 'diag_2', 'diag_3'], dtype='object')\n"
     ]
    },
    {
     "name": "stderr",
     "output_type": "stream",
     "text": [
      "/anaconda3/lib/python3.7/site-packages/sklearn/ensemble/forest.py:246: FutureWarning: The default value of n_estimators will change from 10 in version 0.20 to 100 in 0.22.\n",
      "  \"10 in version 0.20 to 100 in 0.22.\", FutureWarning)\n",
      "/anaconda3/lib/python3.7/site-packages/sklearn/ensemble/forest.py:246: FutureWarning: The default value of n_estimators will change from 10 in version 0.20 to 100 in 0.22.\n",
      "  \"10 in version 0.20 to 100 in 0.22.\", FutureWarning)\n",
      "/anaconda3/lib/python3.7/site-packages/sklearn/ensemble/forest.py:246: FutureWarning: The default value of n_estimators will change from 10 in version 0.20 to 100 in 0.22.\n",
      "  \"10 in version 0.20 to 100 in 0.22.\", FutureWarning)\n",
      "/anaconda3/lib/python3.7/site-packages/sklearn/ensemble/forest.py:246: FutureWarning: The default value of n_estimators will change from 10 in version 0.20 to 100 in 0.22.\n",
      "  \"10 in version 0.20 to 100 in 0.22.\", FutureWarning)\n",
      "/anaconda3/lib/python3.7/site-packages/sklearn/ensemble/forest.py:246: FutureWarning: The default value of n_estimators will change from 10 in version 0.20 to 100 in 0.22.\n",
      "  \"10 in version 0.20 to 100 in 0.22.\", FutureWarning)\n"
     ]
    },
    {
     "name": "stdout",
     "output_type": "stream",
     "text": [
      "Mean: 0.615125, Std: 0.022449248317037256\n",
      "Model params: {'max_depth': 10, 'min_samples_split': 10, 'n_gram_range': (2, 2), 'nlp': True, 'pool': False, 'stem': True, 'tfidf': True}\n",
      "Index(['race', 'gender', 'age', 'weight', 'admission_type_id',\n",
      "       'admission_source_id', 'payer_code', 'max_glu_serum', 'A1Cresult',\n",
      "       'metformin', 'repaglinide', 'nateglinide', 'chlorpropamide',\n",
      "       'glimepiride', 'acetohexamide', 'glipizide', 'glyburide', 'tolbutamide',\n",
      "       'pioglitazone', 'rosiglitazone', 'acarbose', 'miglitol', 'troglitazone',\n",
      "       'tolazamide', 'examide', 'citoglipton', 'insulin',\n",
      "       'glyburide.metformin', 'glipizide.metformin',\n",
      "       'glimepiride.pioglitazone', 'metformin.rosiglitazone',\n",
      "       'metformin.pioglitazone', 'change', 'diabetesMed'],\n",
      "      dtype='object')\n",
      "Impute values for the following attributes\n",
      "Index(['diag_1', 'diag_2', 'diag_3'], dtype='object')\n"
     ]
    },
    {
     "name": "stderr",
     "output_type": "stream",
     "text": [
      "/anaconda3/lib/python3.7/site-packages/sklearn/ensemble/forest.py:246: FutureWarning: The default value of n_estimators will change from 10 in version 0.20 to 100 in 0.22.\n",
      "  \"10 in version 0.20 to 100 in 0.22.\", FutureWarning)\n",
      "/anaconda3/lib/python3.7/site-packages/sklearn/ensemble/forest.py:246: FutureWarning: The default value of n_estimators will change from 10 in version 0.20 to 100 in 0.22.\n",
      "  \"10 in version 0.20 to 100 in 0.22.\", FutureWarning)\n",
      "/anaconda3/lib/python3.7/site-packages/sklearn/ensemble/forest.py:246: FutureWarning: The default value of n_estimators will change from 10 in version 0.20 to 100 in 0.22.\n",
      "  \"10 in version 0.20 to 100 in 0.22.\", FutureWarning)\n",
      "/anaconda3/lib/python3.7/site-packages/sklearn/ensemble/forest.py:246: FutureWarning: The default value of n_estimators will change from 10 in version 0.20 to 100 in 0.22.\n",
      "  \"10 in version 0.20 to 100 in 0.22.\", FutureWarning)\n",
      "/anaconda3/lib/python3.7/site-packages/sklearn/ensemble/forest.py:246: FutureWarning: The default value of n_estimators will change from 10 in version 0.20 to 100 in 0.22.\n",
      "  \"10 in version 0.20 to 100 in 0.22.\", FutureWarning)\n"
     ]
    },
    {
     "name": "stdout",
     "output_type": "stream",
     "text": [
      "Mean: 0.617, Std: 0.012458681711962948\n",
      "Model params: {'max_depth': 50, 'min_samples_split': 2, 'n_gram_range': None, 'nlp': True, 'pool': True, 'stem': True, 'tfidf': True}\n",
      "Index(['race', 'gender', 'age', 'weight', 'admission_type_id',\n",
      "       'admission_source_id', 'payer_code', 'max_glu_serum', 'A1Cresult',\n",
      "       'metformin', 'repaglinide', 'nateglinide', 'chlorpropamide',\n",
      "       'glimepiride', 'acetohexamide', 'glipizide', 'glyburide', 'tolbutamide',\n",
      "       'pioglitazone', 'rosiglitazone', 'acarbose', 'miglitol', 'troglitazone',\n",
      "       'tolazamide', 'examide', 'citoglipton', 'insulin',\n",
      "       'glyburide.metformin', 'glipizide.metformin',\n",
      "       'glimepiride.pioglitazone', 'metformin.rosiglitazone',\n",
      "       'metformin.pioglitazone', 'change', 'diabetesMed'],\n",
      "      dtype='object')\n",
      "Impute values for the following attributes\n",
      "Index(['diag_1', 'diag_2', 'diag_3'], dtype='object')\n"
     ]
    },
    {
     "name": "stderr",
     "output_type": "stream",
     "text": [
      "/anaconda3/lib/python3.7/site-packages/sklearn/ensemble/forest.py:246: FutureWarning: The default value of n_estimators will change from 10 in version 0.20 to 100 in 0.22.\n",
      "  \"10 in version 0.20 to 100 in 0.22.\", FutureWarning)\n",
      "/anaconda3/lib/python3.7/site-packages/sklearn/ensemble/forest.py:246: FutureWarning: The default value of n_estimators will change from 10 in version 0.20 to 100 in 0.22.\n",
      "  \"10 in version 0.20 to 100 in 0.22.\", FutureWarning)\n",
      "/anaconda3/lib/python3.7/site-packages/sklearn/ensemble/forest.py:246: FutureWarning: The default value of n_estimators will change from 10 in version 0.20 to 100 in 0.22.\n",
      "  \"10 in version 0.20 to 100 in 0.22.\", FutureWarning)\n",
      "/anaconda3/lib/python3.7/site-packages/sklearn/ensemble/forest.py:246: FutureWarning: The default value of n_estimators will change from 10 in version 0.20 to 100 in 0.22.\n",
      "  \"10 in version 0.20 to 100 in 0.22.\", FutureWarning)\n",
      "/anaconda3/lib/python3.7/site-packages/sklearn/ensemble/forest.py:246: FutureWarning: The default value of n_estimators will change from 10 in version 0.20 to 100 in 0.22.\n",
      "  \"10 in version 0.20 to 100 in 0.22.\", FutureWarning)\n"
     ]
    },
    {
     "name": "stdout",
     "output_type": "stream",
     "text": [
      "Mean: 0.586, Std: 0.014888124462134248\n",
      "Model params: {'max_depth': 50, 'min_samples_split': 2, 'n_gram_range': None, 'nlp': True, 'pool': False, 'stem': True, 'tfidf': True}\n",
      "Index(['race', 'gender', 'age', 'weight', 'admission_type_id',\n",
      "       'admission_source_id', 'payer_code', 'max_glu_serum', 'A1Cresult',\n",
      "       'metformin', 'repaglinide', 'nateglinide', 'chlorpropamide',\n",
      "       'glimepiride', 'acetohexamide', 'glipizide', 'glyburide', 'tolbutamide',\n",
      "       'pioglitazone', 'rosiglitazone', 'acarbose', 'miglitol', 'troglitazone',\n",
      "       'tolazamide', 'examide', 'citoglipton', 'insulin',\n",
      "       'glyburide.metformin', 'glipizide.metformin',\n",
      "       'glimepiride.pioglitazone', 'metformin.rosiglitazone',\n",
      "       'metformin.pioglitazone', 'change', 'diabetesMed'],\n",
      "      dtype='object')\n",
      "Impute values for the following attributes\n",
      "Index(['diag_1', 'diag_2', 'diag_3'], dtype='object')\n"
     ]
    },
    {
     "name": "stderr",
     "output_type": "stream",
     "text": [
      "/anaconda3/lib/python3.7/site-packages/sklearn/ensemble/forest.py:246: FutureWarning: The default value of n_estimators will change from 10 in version 0.20 to 100 in 0.22.\n",
      "  \"10 in version 0.20 to 100 in 0.22.\", FutureWarning)\n",
      "/anaconda3/lib/python3.7/site-packages/sklearn/ensemble/forest.py:246: FutureWarning: The default value of n_estimators will change from 10 in version 0.20 to 100 in 0.22.\n",
      "  \"10 in version 0.20 to 100 in 0.22.\", FutureWarning)\n",
      "/anaconda3/lib/python3.7/site-packages/sklearn/ensemble/forest.py:246: FutureWarning: The default value of n_estimators will change from 10 in version 0.20 to 100 in 0.22.\n",
      "  \"10 in version 0.20 to 100 in 0.22.\", FutureWarning)\n",
      "/anaconda3/lib/python3.7/site-packages/sklearn/ensemble/forest.py:246: FutureWarning: The default value of n_estimators will change from 10 in version 0.20 to 100 in 0.22.\n",
      "  \"10 in version 0.20 to 100 in 0.22.\", FutureWarning)\n",
      "/anaconda3/lib/python3.7/site-packages/sklearn/ensemble/forest.py:246: FutureWarning: The default value of n_estimators will change from 10 in version 0.20 to 100 in 0.22.\n",
      "  \"10 in version 0.20 to 100 in 0.22.\", FutureWarning)\n"
     ]
    },
    {
     "name": "stdout",
     "output_type": "stream",
     "text": [
      "Mean: 0.5900000000000001, Std: 0.01641264756216985\n",
      "Model params: {'max_depth': 50, 'min_samples_split': 2, 'n_gram_range': (1, 1), 'nlp': True, 'pool': True, 'stem': True, 'tfidf': True}\n",
      "Index(['race', 'gender', 'age', 'weight', 'admission_type_id',\n",
      "       'admission_source_id', 'payer_code', 'max_glu_serum', 'A1Cresult',\n",
      "       'metformin', 'repaglinide', 'nateglinide', 'chlorpropamide',\n",
      "       'glimepiride', 'acetohexamide', 'glipizide', 'glyburide', 'tolbutamide',\n",
      "       'pioglitazone', 'rosiglitazone', 'acarbose', 'miglitol', 'troglitazone',\n",
      "       'tolazamide', 'examide', 'citoglipton', 'insulin',\n",
      "       'glyburide.metformin', 'glipizide.metformin',\n",
      "       'glimepiride.pioglitazone', 'metformin.rosiglitazone',\n",
      "       'metformin.pioglitazone', 'change', 'diabetesMed'],\n",
      "      dtype='object')\n",
      "Impute values for the following attributes\n",
      "Index(['diag_1', 'diag_2', 'diag_3'], dtype='object')\n"
     ]
    },
    {
     "name": "stderr",
     "output_type": "stream",
     "text": [
      "/anaconda3/lib/python3.7/site-packages/sklearn/ensemble/forest.py:246: FutureWarning: The default value of n_estimators will change from 10 in version 0.20 to 100 in 0.22.\n",
      "  \"10 in version 0.20 to 100 in 0.22.\", FutureWarning)\n",
      "/anaconda3/lib/python3.7/site-packages/sklearn/ensemble/forest.py:246: FutureWarning: The default value of n_estimators will change from 10 in version 0.20 to 100 in 0.22.\n",
      "  \"10 in version 0.20 to 100 in 0.22.\", FutureWarning)\n",
      "/anaconda3/lib/python3.7/site-packages/sklearn/ensemble/forest.py:246: FutureWarning: The default value of n_estimators will change from 10 in version 0.20 to 100 in 0.22.\n",
      "  \"10 in version 0.20 to 100 in 0.22.\", FutureWarning)\n",
      "/anaconda3/lib/python3.7/site-packages/sklearn/ensemble/forest.py:246: FutureWarning: The default value of n_estimators will change from 10 in version 0.20 to 100 in 0.22.\n",
      "  \"10 in version 0.20 to 100 in 0.22.\", FutureWarning)\n",
      "/anaconda3/lib/python3.7/site-packages/sklearn/ensemble/forest.py:246: FutureWarning: The default value of n_estimators will change from 10 in version 0.20 to 100 in 0.22.\n",
      "  \"10 in version 0.20 to 100 in 0.22.\", FutureWarning)\n"
     ]
    },
    {
     "name": "stdout",
     "output_type": "stream",
     "text": [
      "Mean: 0.5737500000000001, Std: 0.013732943966972267\n",
      "Model params: {'max_depth': 50, 'min_samples_split': 2, 'n_gram_range': (1, 1), 'nlp': True, 'pool': False, 'stem': True, 'tfidf': True}\n",
      "Index(['race', 'gender', 'age', 'weight', 'admission_type_id',\n",
      "       'admission_source_id', 'payer_code', 'max_glu_serum', 'A1Cresult',\n",
      "       'metformin', 'repaglinide', 'nateglinide', 'chlorpropamide',\n",
      "       'glimepiride', 'acetohexamide', 'glipizide', 'glyburide', 'tolbutamide',\n",
      "       'pioglitazone', 'rosiglitazone', 'acarbose', 'miglitol', 'troglitazone',\n",
      "       'tolazamide', 'examide', 'citoglipton', 'insulin',\n",
      "       'glyburide.metformin', 'glipizide.metformin',\n",
      "       'glimepiride.pioglitazone', 'metformin.rosiglitazone',\n",
      "       'metformin.pioglitazone', 'change', 'diabetesMed'],\n",
      "      dtype='object')\n",
      "Impute values for the following attributes\n",
      "Index(['diag_1', 'diag_2', 'diag_3'], dtype='object')\n"
     ]
    },
    {
     "name": "stderr",
     "output_type": "stream",
     "text": [
      "/anaconda3/lib/python3.7/site-packages/sklearn/ensemble/forest.py:246: FutureWarning: The default value of n_estimators will change from 10 in version 0.20 to 100 in 0.22.\n",
      "  \"10 in version 0.20 to 100 in 0.22.\", FutureWarning)\n",
      "/anaconda3/lib/python3.7/site-packages/sklearn/ensemble/forest.py:246: FutureWarning: The default value of n_estimators will change from 10 in version 0.20 to 100 in 0.22.\n",
      "  \"10 in version 0.20 to 100 in 0.22.\", FutureWarning)\n",
      "/anaconda3/lib/python3.7/site-packages/sklearn/ensemble/forest.py:246: FutureWarning: The default value of n_estimators will change from 10 in version 0.20 to 100 in 0.22.\n",
      "  \"10 in version 0.20 to 100 in 0.22.\", FutureWarning)\n",
      "/anaconda3/lib/python3.7/site-packages/sklearn/ensemble/forest.py:246: FutureWarning: The default value of n_estimators will change from 10 in version 0.20 to 100 in 0.22.\n",
      "  \"10 in version 0.20 to 100 in 0.22.\", FutureWarning)\n",
      "/anaconda3/lib/python3.7/site-packages/sklearn/ensemble/forest.py:246: FutureWarning: The default value of n_estimators will change from 10 in version 0.20 to 100 in 0.22.\n",
      "  \"10 in version 0.20 to 100 in 0.22.\", FutureWarning)\n"
     ]
    },
    {
     "name": "stdout",
     "output_type": "stream",
     "text": [
      "Mean: 0.57025, Std: 0.019512015528899106\n",
      "Model params: {'max_depth': 50, 'min_samples_split': 2, 'n_gram_range': (2, 2), 'nlp': True, 'pool': True, 'stem': True, 'tfidf': True}\n",
      "Index(['race', 'gender', 'age', 'weight', 'admission_type_id',\n",
      "       'admission_source_id', 'payer_code', 'max_glu_serum', 'A1Cresult',\n",
      "       'metformin', 'repaglinide', 'nateglinide', 'chlorpropamide',\n",
      "       'glimepiride', 'acetohexamide', 'glipizide', 'glyburide', 'tolbutamide',\n",
      "       'pioglitazone', 'rosiglitazone', 'acarbose', 'miglitol', 'troglitazone',\n",
      "       'tolazamide', 'examide', 'citoglipton', 'insulin',\n",
      "       'glyburide.metformin', 'glipizide.metformin',\n",
      "       'glimepiride.pioglitazone', 'metformin.rosiglitazone',\n",
      "       'metformin.pioglitazone', 'change', 'diabetesMed'],\n",
      "      dtype='object')\n",
      "Impute values for the following attributes\n",
      "Index(['diag_1', 'diag_2', 'diag_3'], dtype='object')\n"
     ]
    },
    {
     "name": "stderr",
     "output_type": "stream",
     "text": [
      "/anaconda3/lib/python3.7/site-packages/sklearn/ensemble/forest.py:246: FutureWarning: The default value of n_estimators will change from 10 in version 0.20 to 100 in 0.22.\n",
      "  \"10 in version 0.20 to 100 in 0.22.\", FutureWarning)\n",
      "/anaconda3/lib/python3.7/site-packages/sklearn/ensemble/forest.py:246: FutureWarning: The default value of n_estimators will change from 10 in version 0.20 to 100 in 0.22.\n",
      "  \"10 in version 0.20 to 100 in 0.22.\", FutureWarning)\n",
      "/anaconda3/lib/python3.7/site-packages/sklearn/ensemble/forest.py:246: FutureWarning: The default value of n_estimators will change from 10 in version 0.20 to 100 in 0.22.\n",
      "  \"10 in version 0.20 to 100 in 0.22.\", FutureWarning)\n",
      "/anaconda3/lib/python3.7/site-packages/sklearn/ensemble/forest.py:246: FutureWarning: The default value of n_estimators will change from 10 in version 0.20 to 100 in 0.22.\n",
      "  \"10 in version 0.20 to 100 in 0.22.\", FutureWarning)\n",
      "/anaconda3/lib/python3.7/site-packages/sklearn/ensemble/forest.py:246: FutureWarning: The default value of n_estimators will change from 10 in version 0.20 to 100 in 0.22.\n",
      "  \"10 in version 0.20 to 100 in 0.22.\", FutureWarning)\n"
     ]
    },
    {
     "name": "stdout",
     "output_type": "stream",
     "text": [
      "Mean: 0.584375, Std: 0.016737868741270506\n",
      "Model params: {'max_depth': 50, 'min_samples_split': 2, 'n_gram_range': (2, 2), 'nlp': True, 'pool': False, 'stem': True, 'tfidf': True}\n",
      "Index(['race', 'gender', 'age', 'weight', 'admission_type_id',\n",
      "       'admission_source_id', 'payer_code', 'max_glu_serum', 'A1Cresult',\n",
      "       'metformin', 'repaglinide', 'nateglinide', 'chlorpropamide',\n",
      "       'glimepiride', 'acetohexamide', 'glipizide', 'glyburide', 'tolbutamide',\n",
      "       'pioglitazone', 'rosiglitazone', 'acarbose', 'miglitol', 'troglitazone',\n",
      "       'tolazamide', 'examide', 'citoglipton', 'insulin',\n",
      "       'glyburide.metformin', 'glipizide.metformin',\n",
      "       'glimepiride.pioglitazone', 'metformin.rosiglitazone',\n",
      "       'metformin.pioglitazone', 'change', 'diabetesMed'],\n",
      "      dtype='object')\n",
      "Impute values for the following attributes\n",
      "Index(['diag_1', 'diag_2', 'diag_3'], dtype='object')\n"
     ]
    },
    {
     "name": "stderr",
     "output_type": "stream",
     "text": [
      "/anaconda3/lib/python3.7/site-packages/sklearn/ensemble/forest.py:246: FutureWarning: The default value of n_estimators will change from 10 in version 0.20 to 100 in 0.22.\n",
      "  \"10 in version 0.20 to 100 in 0.22.\", FutureWarning)\n",
      "/anaconda3/lib/python3.7/site-packages/sklearn/ensemble/forest.py:246: FutureWarning: The default value of n_estimators will change from 10 in version 0.20 to 100 in 0.22.\n",
      "  \"10 in version 0.20 to 100 in 0.22.\", FutureWarning)\n",
      "/anaconda3/lib/python3.7/site-packages/sklearn/ensemble/forest.py:246: FutureWarning: The default value of n_estimators will change from 10 in version 0.20 to 100 in 0.22.\n",
      "  \"10 in version 0.20 to 100 in 0.22.\", FutureWarning)\n",
      "/anaconda3/lib/python3.7/site-packages/sklearn/ensemble/forest.py:246: FutureWarning: The default value of n_estimators will change from 10 in version 0.20 to 100 in 0.22.\n",
      "  \"10 in version 0.20 to 100 in 0.22.\", FutureWarning)\n",
      "/anaconda3/lib/python3.7/site-packages/sklearn/ensemble/forest.py:246: FutureWarning: The default value of n_estimators will change from 10 in version 0.20 to 100 in 0.22.\n",
      "  \"10 in version 0.20 to 100 in 0.22.\", FutureWarning)\n"
     ]
    },
    {
     "name": "stdout",
     "output_type": "stream",
     "text": [
      "Mean: 0.574125, Std: 0.020716086744363683\n",
      "Model params: {'max_depth': 50, 'min_samples_split': 10, 'n_gram_range': None, 'nlp': True, 'pool': True, 'stem': True, 'tfidf': True}\n",
      "Index(['race', 'gender', 'age', 'weight', 'admission_type_id',\n",
      "       'admission_source_id', 'payer_code', 'max_glu_serum', 'A1Cresult',\n",
      "       'metformin', 'repaglinide', 'nateglinide', 'chlorpropamide',\n",
      "       'glimepiride', 'acetohexamide', 'glipizide', 'glyburide', 'tolbutamide',\n",
      "       'pioglitazone', 'rosiglitazone', 'acarbose', 'miglitol', 'troglitazone',\n",
      "       'tolazamide', 'examide', 'citoglipton', 'insulin',\n",
      "       'glyburide.metformin', 'glipizide.metformin',\n",
      "       'glimepiride.pioglitazone', 'metformin.rosiglitazone',\n",
      "       'metformin.pioglitazone', 'change', 'diabetesMed'],\n",
      "      dtype='object')\n",
      "Impute values for the following attributes\n",
      "Index(['diag_1', 'diag_2', 'diag_3'], dtype='object')\n"
     ]
    },
    {
     "name": "stderr",
     "output_type": "stream",
     "text": [
      "/anaconda3/lib/python3.7/site-packages/sklearn/ensemble/forest.py:246: FutureWarning: The default value of n_estimators will change from 10 in version 0.20 to 100 in 0.22.\n",
      "  \"10 in version 0.20 to 100 in 0.22.\", FutureWarning)\n",
      "/anaconda3/lib/python3.7/site-packages/sklearn/ensemble/forest.py:246: FutureWarning: The default value of n_estimators will change from 10 in version 0.20 to 100 in 0.22.\n",
      "  \"10 in version 0.20 to 100 in 0.22.\", FutureWarning)\n",
      "/anaconda3/lib/python3.7/site-packages/sklearn/ensemble/forest.py:246: FutureWarning: The default value of n_estimators will change from 10 in version 0.20 to 100 in 0.22.\n",
      "  \"10 in version 0.20 to 100 in 0.22.\", FutureWarning)\n",
      "/anaconda3/lib/python3.7/site-packages/sklearn/ensemble/forest.py:246: FutureWarning: The default value of n_estimators will change from 10 in version 0.20 to 100 in 0.22.\n",
      "  \"10 in version 0.20 to 100 in 0.22.\", FutureWarning)\n",
      "/anaconda3/lib/python3.7/site-packages/sklearn/ensemble/forest.py:246: FutureWarning: The default value of n_estimators will change from 10 in version 0.20 to 100 in 0.22.\n",
      "  \"10 in version 0.20 to 100 in 0.22.\", FutureWarning)\n"
     ]
    },
    {
     "name": "stdout",
     "output_type": "stream",
     "text": [
      "Mean: 0.5855, Std: 0.014558073361540658\n",
      "Model params: {'max_depth': 50, 'min_samples_split': 10, 'n_gram_range': None, 'nlp': True, 'pool': False, 'stem': True, 'tfidf': True}\n",
      "Index(['race', 'gender', 'age', 'weight', 'admission_type_id',\n",
      "       'admission_source_id', 'payer_code', 'max_glu_serum', 'A1Cresult',\n",
      "       'metformin', 'repaglinide', 'nateglinide', 'chlorpropamide',\n",
      "       'glimepiride', 'acetohexamide', 'glipizide', 'glyburide', 'tolbutamide',\n",
      "       'pioglitazone', 'rosiglitazone', 'acarbose', 'miglitol', 'troglitazone',\n",
      "       'tolazamide', 'examide', 'citoglipton', 'insulin',\n",
      "       'glyburide.metformin', 'glipizide.metformin',\n",
      "       'glimepiride.pioglitazone', 'metformin.rosiglitazone',\n",
      "       'metformin.pioglitazone', 'change', 'diabetesMed'],\n",
      "      dtype='object')\n",
      "Impute values for the following attributes\n",
      "Index(['diag_1', 'diag_2', 'diag_3'], dtype='object')\n"
     ]
    },
    {
     "name": "stderr",
     "output_type": "stream",
     "text": [
      "/anaconda3/lib/python3.7/site-packages/sklearn/ensemble/forest.py:246: FutureWarning: The default value of n_estimators will change from 10 in version 0.20 to 100 in 0.22.\n",
      "  \"10 in version 0.20 to 100 in 0.22.\", FutureWarning)\n",
      "/anaconda3/lib/python3.7/site-packages/sklearn/ensemble/forest.py:246: FutureWarning: The default value of n_estimators will change from 10 in version 0.20 to 100 in 0.22.\n",
      "  \"10 in version 0.20 to 100 in 0.22.\", FutureWarning)\n",
      "/anaconda3/lib/python3.7/site-packages/sklearn/ensemble/forest.py:246: FutureWarning: The default value of n_estimators will change from 10 in version 0.20 to 100 in 0.22.\n",
      "  \"10 in version 0.20 to 100 in 0.22.\", FutureWarning)\n",
      "/anaconda3/lib/python3.7/site-packages/sklearn/ensemble/forest.py:246: FutureWarning: The default value of n_estimators will change from 10 in version 0.20 to 100 in 0.22.\n",
      "  \"10 in version 0.20 to 100 in 0.22.\", FutureWarning)\n",
      "/anaconda3/lib/python3.7/site-packages/sklearn/ensemble/forest.py:246: FutureWarning: The default value of n_estimators will change from 10 in version 0.20 to 100 in 0.22.\n",
      "  \"10 in version 0.20 to 100 in 0.22.\", FutureWarning)\n"
     ]
    },
    {
     "name": "stdout",
     "output_type": "stream",
     "text": [
      "Mean: 0.59975, Std: 0.008068069781552474\n",
      "Model params: {'max_depth': 50, 'min_samples_split': 10, 'n_gram_range': (1, 1), 'nlp': True, 'pool': True, 'stem': True, 'tfidf': True}\n",
      "Index(['race', 'gender', 'age', 'weight', 'admission_type_id',\n",
      "       'admission_source_id', 'payer_code', 'max_glu_serum', 'A1Cresult',\n",
      "       'metformin', 'repaglinide', 'nateglinide', 'chlorpropamide',\n",
      "       'glimepiride', 'acetohexamide', 'glipizide', 'glyburide', 'tolbutamide',\n",
      "       'pioglitazone', 'rosiglitazone', 'acarbose', 'miglitol', 'troglitazone',\n",
      "       'tolazamide', 'examide', 'citoglipton', 'insulin',\n",
      "       'glyburide.metformin', 'glipizide.metformin',\n",
      "       'glimepiride.pioglitazone', 'metformin.rosiglitazone',\n",
      "       'metformin.pioglitazone', 'change', 'diabetesMed'],\n",
      "      dtype='object')\n",
      "Impute values for the following attributes\n",
      "Index(['diag_1', 'diag_2', 'diag_3'], dtype='object')\n"
     ]
    },
    {
     "name": "stderr",
     "output_type": "stream",
     "text": [
      "/anaconda3/lib/python3.7/site-packages/sklearn/ensemble/forest.py:246: FutureWarning: The default value of n_estimators will change from 10 in version 0.20 to 100 in 0.22.\n",
      "  \"10 in version 0.20 to 100 in 0.22.\", FutureWarning)\n",
      "/anaconda3/lib/python3.7/site-packages/sklearn/ensemble/forest.py:246: FutureWarning: The default value of n_estimators will change from 10 in version 0.20 to 100 in 0.22.\n",
      "  \"10 in version 0.20 to 100 in 0.22.\", FutureWarning)\n",
      "/anaconda3/lib/python3.7/site-packages/sklearn/ensemble/forest.py:246: FutureWarning: The default value of n_estimators will change from 10 in version 0.20 to 100 in 0.22.\n",
      "  \"10 in version 0.20 to 100 in 0.22.\", FutureWarning)\n",
      "/anaconda3/lib/python3.7/site-packages/sklearn/ensemble/forest.py:246: FutureWarning: The default value of n_estimators will change from 10 in version 0.20 to 100 in 0.22.\n",
      "  \"10 in version 0.20 to 100 in 0.22.\", FutureWarning)\n",
      "/anaconda3/lib/python3.7/site-packages/sklearn/ensemble/forest.py:246: FutureWarning: The default value of n_estimators will change from 10 in version 0.20 to 100 in 0.22.\n",
      "  \"10 in version 0.20 to 100 in 0.22.\", FutureWarning)\n"
     ]
    },
    {
     "name": "stdout",
     "output_type": "stream",
     "text": [
      "Mean: 0.58275, Std: 0.014260960696951663\n",
      "Model params: {'max_depth': 50, 'min_samples_split': 10, 'n_gram_range': (1, 1), 'nlp': True, 'pool': False, 'stem': True, 'tfidf': True}\n",
      "Index(['race', 'gender', 'age', 'weight', 'admission_type_id',\n",
      "       'admission_source_id', 'payer_code', 'max_glu_serum', 'A1Cresult',\n",
      "       'metformin', 'repaglinide', 'nateglinide', 'chlorpropamide',\n",
      "       'glimepiride', 'acetohexamide', 'glipizide', 'glyburide', 'tolbutamide',\n",
      "       'pioglitazone', 'rosiglitazone', 'acarbose', 'miglitol', 'troglitazone',\n",
      "       'tolazamide', 'examide', 'citoglipton', 'insulin',\n",
      "       'glyburide.metformin', 'glipizide.metformin',\n",
      "       'glimepiride.pioglitazone', 'metformin.rosiglitazone',\n",
      "       'metformin.pioglitazone', 'change', 'diabetesMed'],\n",
      "      dtype='object')\n",
      "Impute values for the following attributes\n",
      "Index(['diag_1', 'diag_2', 'diag_3'], dtype='object')\n"
     ]
    },
    {
     "name": "stderr",
     "output_type": "stream",
     "text": [
      "/anaconda3/lib/python3.7/site-packages/sklearn/ensemble/forest.py:246: FutureWarning: The default value of n_estimators will change from 10 in version 0.20 to 100 in 0.22.\n",
      "  \"10 in version 0.20 to 100 in 0.22.\", FutureWarning)\n",
      "/anaconda3/lib/python3.7/site-packages/sklearn/ensemble/forest.py:246: FutureWarning: The default value of n_estimators will change from 10 in version 0.20 to 100 in 0.22.\n",
      "  \"10 in version 0.20 to 100 in 0.22.\", FutureWarning)\n",
      "/anaconda3/lib/python3.7/site-packages/sklearn/ensemble/forest.py:246: FutureWarning: The default value of n_estimators will change from 10 in version 0.20 to 100 in 0.22.\n",
      "  \"10 in version 0.20 to 100 in 0.22.\", FutureWarning)\n",
      "/anaconda3/lib/python3.7/site-packages/sklearn/ensemble/forest.py:246: FutureWarning: The default value of n_estimators will change from 10 in version 0.20 to 100 in 0.22.\n",
      "  \"10 in version 0.20 to 100 in 0.22.\", FutureWarning)\n",
      "/anaconda3/lib/python3.7/site-packages/sklearn/ensemble/forest.py:246: FutureWarning: The default value of n_estimators will change from 10 in version 0.20 to 100 in 0.22.\n",
      "  \"10 in version 0.20 to 100 in 0.22.\", FutureWarning)\n"
     ]
    },
    {
     "name": "stdout",
     "output_type": "stream",
     "text": [
      "Mean: 0.5962500000000001, Std: 0.011504075364843531\n",
      "Model params: {'max_depth': 50, 'min_samples_split': 10, 'n_gram_range': (2, 2), 'nlp': True, 'pool': True, 'stem': True, 'tfidf': True}\n",
      "Index(['race', 'gender', 'age', 'weight', 'admission_type_id',\n",
      "       'admission_source_id', 'payer_code', 'max_glu_serum', 'A1Cresult',\n",
      "       'metformin', 'repaglinide', 'nateglinide', 'chlorpropamide',\n",
      "       'glimepiride', 'acetohexamide', 'glipizide', 'glyburide', 'tolbutamide',\n",
      "       'pioglitazone', 'rosiglitazone', 'acarbose', 'miglitol', 'troglitazone',\n",
      "       'tolazamide', 'examide', 'citoglipton', 'insulin',\n",
      "       'glyburide.metformin', 'glipizide.metformin',\n",
      "       'glimepiride.pioglitazone', 'metformin.rosiglitazone',\n",
      "       'metformin.pioglitazone', 'change', 'diabetesMed'],\n",
      "      dtype='object')\n",
      "Impute values for the following attributes\n",
      "Index(['diag_1', 'diag_2', 'diag_3'], dtype='object')\n"
     ]
    },
    {
     "name": "stderr",
     "output_type": "stream",
     "text": [
      "/anaconda3/lib/python3.7/site-packages/sklearn/ensemble/forest.py:246: FutureWarning: The default value of n_estimators will change from 10 in version 0.20 to 100 in 0.22.\n",
      "  \"10 in version 0.20 to 100 in 0.22.\", FutureWarning)\n",
      "/anaconda3/lib/python3.7/site-packages/sklearn/ensemble/forest.py:246: FutureWarning: The default value of n_estimators will change from 10 in version 0.20 to 100 in 0.22.\n",
      "  \"10 in version 0.20 to 100 in 0.22.\", FutureWarning)\n",
      "/anaconda3/lib/python3.7/site-packages/sklearn/ensemble/forest.py:246: FutureWarning: The default value of n_estimators will change from 10 in version 0.20 to 100 in 0.22.\n",
      "  \"10 in version 0.20 to 100 in 0.22.\", FutureWarning)\n",
      "/anaconda3/lib/python3.7/site-packages/sklearn/ensemble/forest.py:246: FutureWarning: The default value of n_estimators will change from 10 in version 0.20 to 100 in 0.22.\n",
      "  \"10 in version 0.20 to 100 in 0.22.\", FutureWarning)\n",
      "/anaconda3/lib/python3.7/site-packages/sklearn/ensemble/forest.py:246: FutureWarning: The default value of n_estimators will change from 10 in version 0.20 to 100 in 0.22.\n",
      "  \"10 in version 0.20 to 100 in 0.22.\", FutureWarning)\n"
     ]
    },
    {
     "name": "stdout",
     "output_type": "stream",
     "text": [
      "Mean: 0.57325, Std: 0.016280740155164945\n",
      "Model params: {'max_depth': 50, 'min_samples_split': 10, 'n_gram_range': (2, 2), 'nlp': True, 'pool': False, 'stem': True, 'tfidf': True}\n",
      "Index(['race', 'gender', 'age', 'weight', 'admission_type_id',\n",
      "       'admission_source_id', 'payer_code', 'max_glu_serum', 'A1Cresult',\n",
      "       'metformin', 'repaglinide', 'nateglinide', 'chlorpropamide',\n",
      "       'glimepiride', 'acetohexamide', 'glipizide', 'glyburide', 'tolbutamide',\n",
      "       'pioglitazone', 'rosiglitazone', 'acarbose', 'miglitol', 'troglitazone',\n",
      "       'tolazamide', 'examide', 'citoglipton', 'insulin',\n",
      "       'glyburide.metformin', 'glipizide.metformin',\n",
      "       'glimepiride.pioglitazone', 'metformin.rosiglitazone',\n",
      "       'metformin.pioglitazone', 'change', 'diabetesMed'],\n",
      "      dtype='object')\n",
      "Impute values for the following attributes\n",
      "Index(['diag_1', 'diag_2', 'diag_3'], dtype='object')\n"
     ]
    },
    {
     "name": "stderr",
     "output_type": "stream",
     "text": [
      "/anaconda3/lib/python3.7/site-packages/sklearn/ensemble/forest.py:246: FutureWarning: The default value of n_estimators will change from 10 in version 0.20 to 100 in 0.22.\n",
      "  \"10 in version 0.20 to 100 in 0.22.\", FutureWarning)\n",
      "/anaconda3/lib/python3.7/site-packages/sklearn/ensemble/forest.py:246: FutureWarning: The default value of n_estimators will change from 10 in version 0.20 to 100 in 0.22.\n",
      "  \"10 in version 0.20 to 100 in 0.22.\", FutureWarning)\n",
      "/anaconda3/lib/python3.7/site-packages/sklearn/ensemble/forest.py:246: FutureWarning: The default value of n_estimators will change from 10 in version 0.20 to 100 in 0.22.\n",
      "  \"10 in version 0.20 to 100 in 0.22.\", FutureWarning)\n",
      "/anaconda3/lib/python3.7/site-packages/sklearn/ensemble/forest.py:246: FutureWarning: The default value of n_estimators will change from 10 in version 0.20 to 100 in 0.22.\n",
      "  \"10 in version 0.20 to 100 in 0.22.\", FutureWarning)\n",
      "/anaconda3/lib/python3.7/site-packages/sklearn/ensemble/forest.py:246: FutureWarning: The default value of n_estimators will change from 10 in version 0.20 to 100 in 0.22.\n",
      "  \"10 in version 0.20 to 100 in 0.22.\", FutureWarning)\n"
     ]
    },
    {
     "name": "stdout",
     "output_type": "stream",
     "text": [
      "Mean: 0.5945, Std: 0.011280514172678472\n"
     ]
    }
   ],
   "source": [
    "from sklearn.model_selection import KFold\n",
    "\n",
    "#Run grid search\n",
    "res_rf = list()\n",
    "n_fold = 5\n",
    "DF = [df_train, df_validate, df_test]\n",
    "\n",
    "# RandomForest\n",
    "for param in param_grid_rf:\n",
    "\n",
    "    if not param['nlp'] and param['stem']:\n",
    "        #Skip this parameter setting since unreasonable\n",
    "        continue\n",
    "        \n",
    "    if not param['nlp'] and not param['n_gram_range'] == None:\n",
    "        #Skip this parameter setting since unreasonable\n",
    "        continue\n",
    "        \n",
    "    if not param['nlp'] and param['pool'] == True:\n",
    "        #Skip this parameter setting since unreasonable\n",
    "        continue\n",
    "        \n",
    "    print(\"Model params:\", param)\n",
    "        \n",
    "    df = pd.concat(DF, axis=0)    \n",
    "    df,y = prep_df(df, pool=param['pool'])\n",
    "    df = get_transforms(df, impute=True, imp=\"mean\")\n",
    "    \n",
    "    if param['nlp']:\n",
    "        df = get_nlp(df, n_gram_range=(1,1), stem=param['stem'], tfidf=param['tfidf'])\n",
    "    else:\n",
    "        if param['pool']:\n",
    "            df = df.drop(columns=['description'])\n",
    "        else:\n",
    "            df = df.drop(columns=type_txt)\n",
    "            \n",
    "    X_train, y_train, X_val, y_val, X_test, y_test = split_df(DF,df,y)\n",
    "    \n",
    "    #CV over grid search\n",
    "    acc_cv = []\n",
    "    for train, val in zip(KFold(n_splits=n_fold).split(X_train), KFold(n_splits=n_fold).split(X_val)):\n",
    "        idx_train,_ = train\n",
    "        idx_val,_ = val\n",
    "        \n",
    "        clf = RandomForestClassifier(max_depth=param['max_depth'], min_samples_split=param['min_samples_split'])\n",
    "        clf.fit(X_train.values[idx_train],y_train[idx_train])\n",
    "        pred_test = clf.predict(X_val.values[idx_val])\n",
    "        acc_cv.append(accuracy_score(y_val[idx_val], pred_test))\n",
    "    \n",
    "    acc = np.mean(acc_cv)\n",
    "    acc_sd = np.std(acc_cv)\n",
    "    print('Mean: {}, Std: {}'.format(acc, acc_sd))\n",
    "    res_rf.append((acc, acc_sd, param))"
   ]
  },
  {
   "cell_type": "code",
   "execution_count": 39,
   "metadata": {},
   "outputs": [
    {
     "name": "stdout",
     "output_type": "stream",
     "text": [
      "Model params: {'learning_rate': 0.1, 'n_estimators': 50, 'n_gram_range': None, 'nlp': True, 'pool': True, 'stem': True, 'tfidf': True}\n",
      "Index(['race', 'gender', 'age', 'weight', 'admission_type_id',\n",
      "       'admission_source_id', 'payer_code', 'max_glu_serum', 'A1Cresult',\n",
      "       'metformin', 'repaglinide', 'nateglinide', 'chlorpropamide',\n",
      "       'glimepiride', 'acetohexamide', 'glipizide', 'glyburide', 'tolbutamide',\n",
      "       'pioglitazone', 'rosiglitazone', 'acarbose', 'miglitol', 'troglitazone',\n",
      "       'tolazamide', 'examide', 'citoglipton', 'insulin',\n",
      "       'glyburide.metformin', 'glipizide.metformin',\n",
      "       'glimepiride.pioglitazone', 'metformin.rosiglitazone',\n",
      "       'metformin.pioglitazone', 'change', 'diabetesMed'],\n",
      "      dtype='object')\n",
      "Impute values for the following attributes\n",
      "Index(['diag_1', 'diag_2', 'diag_3'], dtype='object')\n",
      "Mean: 0.6232500000000001, Std: 0.014461154863979538\n",
      "Model params: {'learning_rate': 0.1, 'n_estimators': 50, 'n_gram_range': None, 'nlp': True, 'pool': False, 'stem': True, 'tfidf': True}\n",
      "Index(['race', 'gender', 'age', 'weight', 'admission_type_id',\n",
      "       'admission_source_id', 'payer_code', 'max_glu_serum', 'A1Cresult',\n",
      "       'metformin', 'repaglinide', 'nateglinide', 'chlorpropamide',\n",
      "       'glimepiride', 'acetohexamide', 'glipizide', 'glyburide', 'tolbutamide',\n",
      "       'pioglitazone', 'rosiglitazone', 'acarbose', 'miglitol', 'troglitazone',\n",
      "       'tolazamide', 'examide', 'citoglipton', 'insulin',\n",
      "       'glyburide.metformin', 'glipizide.metformin',\n",
      "       'glimepiride.pioglitazone', 'metformin.rosiglitazone',\n",
      "       'metformin.pioglitazone', 'change', 'diabetesMed'],\n",
      "      dtype='object')\n",
      "Impute values for the following attributes\n",
      "Index(['diag_1', 'diag_2', 'diag_3'], dtype='object')\n",
      "Mean: 0.6242500000000001, Std: 0.014248903466582969\n",
      "Model params: {'learning_rate': 0.1, 'n_estimators': 50, 'n_gram_range': (1, 1), 'nlp': True, 'pool': True, 'stem': True, 'tfidf': True}\n",
      "Index(['race', 'gender', 'age', 'weight', 'admission_type_id',\n",
      "       'admission_source_id', 'payer_code', 'max_glu_serum', 'A1Cresult',\n",
      "       'metformin', 'repaglinide', 'nateglinide', 'chlorpropamide',\n",
      "       'glimepiride', 'acetohexamide', 'glipizide', 'glyburide', 'tolbutamide',\n",
      "       'pioglitazone', 'rosiglitazone', 'acarbose', 'miglitol', 'troglitazone',\n",
      "       'tolazamide', 'examide', 'citoglipton', 'insulin',\n",
      "       'glyburide.metformin', 'glipizide.metformin',\n",
      "       'glimepiride.pioglitazone', 'metformin.rosiglitazone',\n",
      "       'metformin.pioglitazone', 'change', 'diabetesMed'],\n",
      "      dtype='object')\n",
      "Impute values for the following attributes\n",
      "Index(['diag_1', 'diag_2', 'diag_3'], dtype='object')\n",
      "Mean: 0.6232500000000001, Std: 0.014461154863979538\n",
      "Model params: {'learning_rate': 0.1, 'n_estimators': 50, 'n_gram_range': (1, 1), 'nlp': True, 'pool': False, 'stem': True, 'tfidf': True}\n",
      "Index(['race', 'gender', 'age', 'weight', 'admission_type_id',\n",
      "       'admission_source_id', 'payer_code', 'max_glu_serum', 'A1Cresult',\n",
      "       'metformin', 'repaglinide', 'nateglinide', 'chlorpropamide',\n",
      "       'glimepiride', 'acetohexamide', 'glipizide', 'glyburide', 'tolbutamide',\n",
      "       'pioglitazone', 'rosiglitazone', 'acarbose', 'miglitol', 'troglitazone',\n",
      "       'tolazamide', 'examide', 'citoglipton', 'insulin',\n",
      "       'glyburide.metformin', 'glipizide.metformin',\n",
      "       'glimepiride.pioglitazone', 'metformin.rosiglitazone',\n",
      "       'metformin.pioglitazone', 'change', 'diabetesMed'],\n",
      "      dtype='object')\n",
      "Impute values for the following attributes\n",
      "Index(['diag_1', 'diag_2', 'diag_3'], dtype='object')\n",
      "Mean: 0.6242500000000001, Std: 0.014248903466582969\n",
      "Model params: {'learning_rate': 0.1, 'n_estimators': 50, 'n_gram_range': (2, 2), 'nlp': True, 'pool': True, 'stem': True, 'tfidf': True}\n",
      "Index(['race', 'gender', 'age', 'weight', 'admission_type_id',\n",
      "       'admission_source_id', 'payer_code', 'max_glu_serum', 'A1Cresult',\n",
      "       'metformin', 'repaglinide', 'nateglinide', 'chlorpropamide',\n",
      "       'glimepiride', 'acetohexamide', 'glipizide', 'glyburide', 'tolbutamide',\n",
      "       'pioglitazone', 'rosiglitazone', 'acarbose', 'miglitol', 'troglitazone',\n",
      "       'tolazamide', 'examide', 'citoglipton', 'insulin',\n",
      "       'glyburide.metformin', 'glipizide.metformin',\n",
      "       'glimepiride.pioglitazone', 'metformin.rosiglitazone',\n",
      "       'metformin.pioglitazone', 'change', 'diabetesMed'],\n",
      "      dtype='object')\n",
      "Impute values for the following attributes\n",
      "Index(['diag_1', 'diag_2', 'diag_3'], dtype='object')\n",
      "Mean: 0.6232500000000001, Std: 0.014461154863979538\n",
      "Model params: {'learning_rate': 0.1, 'n_estimators': 50, 'n_gram_range': (2, 2), 'nlp': True, 'pool': False, 'stem': True, 'tfidf': True}\n",
      "Index(['race', 'gender', 'age', 'weight', 'admission_type_id',\n",
      "       'admission_source_id', 'payer_code', 'max_glu_serum', 'A1Cresult',\n",
      "       'metformin', 'repaglinide', 'nateglinide', 'chlorpropamide',\n",
      "       'glimepiride', 'acetohexamide', 'glipizide', 'glyburide', 'tolbutamide',\n",
      "       'pioglitazone', 'rosiglitazone', 'acarbose', 'miglitol', 'troglitazone',\n",
      "       'tolazamide', 'examide', 'citoglipton', 'insulin',\n",
      "       'glyburide.metformin', 'glipizide.metformin',\n",
      "       'glimepiride.pioglitazone', 'metformin.rosiglitazone',\n",
      "       'metformin.pioglitazone', 'change', 'diabetesMed'],\n",
      "      dtype='object')\n",
      "Impute values for the following attributes\n",
      "Index(['diag_1', 'diag_2', 'diag_3'], dtype='object')\n",
      "Mean: 0.6242500000000001, Std: 0.014248903466582969\n",
      "Model params: {'learning_rate': 0.1, 'n_estimators': 100, 'n_gram_range': None, 'nlp': True, 'pool': True, 'stem': True, 'tfidf': True}\n",
      "Index(['race', 'gender', 'age', 'weight', 'admission_type_id',\n",
      "       'admission_source_id', 'payer_code', 'max_glu_serum', 'A1Cresult',\n",
      "       'metformin', 'repaglinide', 'nateglinide', 'chlorpropamide',\n",
      "       'glimepiride', 'acetohexamide', 'glipizide', 'glyburide', 'tolbutamide',\n",
      "       'pioglitazone', 'rosiglitazone', 'acarbose', 'miglitol', 'troglitazone',\n",
      "       'tolazamide', 'examide', 'citoglipton', 'insulin',\n",
      "       'glyburide.metformin', 'glipizide.metformin',\n",
      "       'glimepiride.pioglitazone', 'metformin.rosiglitazone',\n",
      "       'metformin.pioglitazone', 'change', 'diabetesMed'],\n",
      "      dtype='object')\n",
      "Impute values for the following attributes\n",
      "Index(['diag_1', 'diag_2', 'diag_3'], dtype='object')\n",
      "Mean: 0.608125, Std: 0.020972452169453117\n",
      "Model params: {'learning_rate': 0.1, 'n_estimators': 100, 'n_gram_range': None, 'nlp': True, 'pool': False, 'stem': True, 'tfidf': True}\n",
      "Index(['race', 'gender', 'age', 'weight', 'admission_type_id',\n",
      "       'admission_source_id', 'payer_code', 'max_glu_serum', 'A1Cresult',\n",
      "       'metformin', 'repaglinide', 'nateglinide', 'chlorpropamide',\n",
      "       'glimepiride', 'acetohexamide', 'glipizide', 'glyburide', 'tolbutamide',\n",
      "       'pioglitazone', 'rosiglitazone', 'acarbose', 'miglitol', 'troglitazone',\n",
      "       'tolazamide', 'examide', 'citoglipton', 'insulin',\n",
      "       'glyburide.metformin', 'glipizide.metformin',\n",
      "       'glimepiride.pioglitazone', 'metformin.rosiglitazone',\n",
      "       'metformin.pioglitazone', 'change', 'diabetesMed'],\n",
      "      dtype='object')\n",
      "Impute values for the following attributes\n",
      "Index(['diag_1', 'diag_2', 'diag_3'], dtype='object')\n",
      "Mean: 0.60625, Std: 0.016630168369562597\n",
      "Model params: {'learning_rate': 0.1, 'n_estimators': 100, 'n_gram_range': (1, 1), 'nlp': True, 'pool': True, 'stem': True, 'tfidf': True}\n",
      "Index(['race', 'gender', 'age', 'weight', 'admission_type_id',\n",
      "       'admission_source_id', 'payer_code', 'max_glu_serum', 'A1Cresult',\n",
      "       'metformin', 'repaglinide', 'nateglinide', 'chlorpropamide',\n",
      "       'glimepiride', 'acetohexamide', 'glipizide', 'glyburide', 'tolbutamide',\n",
      "       'pioglitazone', 'rosiglitazone', 'acarbose', 'miglitol', 'troglitazone',\n",
      "       'tolazamide', 'examide', 'citoglipton', 'insulin',\n",
      "       'glyburide.metformin', 'glipizide.metformin',\n",
      "       'glimepiride.pioglitazone', 'metformin.rosiglitazone',\n",
      "       'metformin.pioglitazone', 'change', 'diabetesMed'],\n",
      "      dtype='object')\n",
      "Impute values for the following attributes\n",
      "Index(['diag_1', 'diag_2', 'diag_3'], dtype='object')\n",
      "Mean: 0.608125, Std: 0.020972452169453117\n",
      "Model params: {'learning_rate': 0.1, 'n_estimators': 100, 'n_gram_range': (1, 1), 'nlp': True, 'pool': False, 'stem': True, 'tfidf': True}\n",
      "Index(['race', 'gender', 'age', 'weight', 'admission_type_id',\n",
      "       'admission_source_id', 'payer_code', 'max_glu_serum', 'A1Cresult',\n",
      "       'metformin', 'repaglinide', 'nateglinide', 'chlorpropamide',\n",
      "       'glimepiride', 'acetohexamide', 'glipizide', 'glyburide', 'tolbutamide',\n",
      "       'pioglitazone', 'rosiglitazone', 'acarbose', 'miglitol', 'troglitazone',\n",
      "       'tolazamide', 'examide', 'citoglipton', 'insulin',\n",
      "       'glyburide.metformin', 'glipizide.metformin',\n",
      "       'glimepiride.pioglitazone', 'metformin.rosiglitazone',\n",
      "       'metformin.pioglitazone', 'change', 'diabetesMed'],\n",
      "      dtype='object')\n"
     ]
    },
    {
     "name": "stdout",
     "output_type": "stream",
     "text": [
      "Impute values for the following attributes\n",
      "Index(['diag_1', 'diag_2', 'diag_3'], dtype='object')\n",
      "Mean: 0.60625, Std: 0.016630168369562597\n",
      "Model params: {'learning_rate': 0.1, 'n_estimators': 100, 'n_gram_range': (2, 2), 'nlp': True, 'pool': True, 'stem': True, 'tfidf': True}\n",
      "Index(['race', 'gender', 'age', 'weight', 'admission_type_id',\n",
      "       'admission_source_id', 'payer_code', 'max_glu_serum', 'A1Cresult',\n",
      "       'metformin', 'repaglinide', 'nateglinide', 'chlorpropamide',\n",
      "       'glimepiride', 'acetohexamide', 'glipizide', 'glyburide', 'tolbutamide',\n",
      "       'pioglitazone', 'rosiglitazone', 'acarbose', 'miglitol', 'troglitazone',\n",
      "       'tolazamide', 'examide', 'citoglipton', 'insulin',\n",
      "       'glyburide.metformin', 'glipizide.metformin',\n",
      "       'glimepiride.pioglitazone', 'metformin.rosiglitazone',\n",
      "       'metformin.pioglitazone', 'change', 'diabetesMed'],\n",
      "      dtype='object')\n",
      "Impute values for the following attributes\n",
      "Index(['diag_1', 'diag_2', 'diag_3'], dtype='object')\n",
      "Mean: 0.608125, Std: 0.020972452169453117\n",
      "Model params: {'learning_rate': 0.1, 'n_estimators': 100, 'n_gram_range': (2, 2), 'nlp': True, 'pool': False, 'stem': True, 'tfidf': True}\n",
      "Index(['race', 'gender', 'age', 'weight', 'admission_type_id',\n",
      "       'admission_source_id', 'payer_code', 'max_glu_serum', 'A1Cresult',\n",
      "       'metformin', 'repaglinide', 'nateglinide', 'chlorpropamide',\n",
      "       'glimepiride', 'acetohexamide', 'glipizide', 'glyburide', 'tolbutamide',\n",
      "       'pioglitazone', 'rosiglitazone', 'acarbose', 'miglitol', 'troglitazone',\n",
      "       'tolazamide', 'examide', 'citoglipton', 'insulin',\n",
      "       'glyburide.metformin', 'glipizide.metformin',\n",
      "       'glimepiride.pioglitazone', 'metformin.rosiglitazone',\n",
      "       'metformin.pioglitazone', 'change', 'diabetesMed'],\n",
      "      dtype='object')\n",
      "Impute values for the following attributes\n",
      "Index(['diag_1', 'diag_2', 'diag_3'], dtype='object')\n",
      "Mean: 0.60625, Std: 0.016630168369562597\n",
      "Model params: {'learning_rate': 1.0, 'n_estimators': 50, 'n_gram_range': None, 'nlp': True, 'pool': True, 'stem': True, 'tfidf': True}\n",
      "Index(['race', 'gender', 'age', 'weight', 'admission_type_id',\n",
      "       'admission_source_id', 'payer_code', 'max_glu_serum', 'A1Cresult',\n",
      "       'metformin', 'repaglinide', 'nateglinide', 'chlorpropamide',\n",
      "       'glimepiride', 'acetohexamide', 'glipizide', 'glyburide', 'tolbutamide',\n",
      "       'pioglitazone', 'rosiglitazone', 'acarbose', 'miglitol', 'troglitazone',\n",
      "       'tolazamide', 'examide', 'citoglipton', 'insulin',\n",
      "       'glyburide.metformin', 'glipizide.metformin',\n",
      "       'glimepiride.pioglitazone', 'metformin.rosiglitazone',\n",
      "       'metformin.pioglitazone', 'change', 'diabetesMed'],\n",
      "      dtype='object')\n",
      "Impute values for the following attributes\n",
      "Index(['diag_1', 'diag_2', 'diag_3'], dtype='object')\n",
      "Mean: 0.541375, Std: 0.015842979517754856\n",
      "Model params: {'learning_rate': 1.0, 'n_estimators': 50, 'n_gram_range': None, 'nlp': True, 'pool': False, 'stem': True, 'tfidf': True}\n",
      "Index(['race', 'gender', 'age', 'weight', 'admission_type_id',\n",
      "       'admission_source_id', 'payer_code', 'max_glu_serum', 'A1Cresult',\n",
      "       'metformin', 'repaglinide', 'nateglinide', 'chlorpropamide',\n",
      "       'glimepiride', 'acetohexamide', 'glipizide', 'glyburide', 'tolbutamide',\n",
      "       'pioglitazone', 'rosiglitazone', 'acarbose', 'miglitol', 'troglitazone',\n",
      "       'tolazamide', 'examide', 'citoglipton', 'insulin',\n",
      "       'glyburide.metformin', 'glipizide.metformin',\n",
      "       'glimepiride.pioglitazone', 'metformin.rosiglitazone',\n",
      "       'metformin.pioglitazone', 'change', 'diabetesMed'],\n",
      "      dtype='object')\n",
      "Impute values for the following attributes\n",
      "Index(['diag_1', 'diag_2', 'diag_3'], dtype='object')\n",
      "Mean: 0.52675, Std: 0.01777199341660918\n",
      "Model params: {'learning_rate': 1.0, 'n_estimators': 50, 'n_gram_range': (1, 1), 'nlp': True, 'pool': True, 'stem': True, 'tfidf': True}\n",
      "Index(['race', 'gender', 'age', 'weight', 'admission_type_id',\n",
      "       'admission_source_id', 'payer_code', 'max_glu_serum', 'A1Cresult',\n",
      "       'metformin', 'repaglinide', 'nateglinide', 'chlorpropamide',\n",
      "       'glimepiride', 'acetohexamide', 'glipizide', 'glyburide', 'tolbutamide',\n",
      "       'pioglitazone', 'rosiglitazone', 'acarbose', 'miglitol', 'troglitazone',\n",
      "       'tolazamide', 'examide', 'citoglipton', 'insulin',\n",
      "       'glyburide.metformin', 'glipizide.metformin',\n",
      "       'glimepiride.pioglitazone', 'metformin.rosiglitazone',\n",
      "       'metformin.pioglitazone', 'change', 'diabetesMed'],\n",
      "      dtype='object')\n",
      "Impute values for the following attributes\n",
      "Index(['diag_1', 'diag_2', 'diag_3'], dtype='object')\n",
      "Mean: 0.541375, Std: 0.015842979517754856\n",
      "Model params: {'learning_rate': 1.0, 'n_estimators': 50, 'n_gram_range': (1, 1), 'nlp': True, 'pool': False, 'stem': True, 'tfidf': True}\n",
      "Index(['race', 'gender', 'age', 'weight', 'admission_type_id',\n",
      "       'admission_source_id', 'payer_code', 'max_glu_serum', 'A1Cresult',\n",
      "       'metformin', 'repaglinide', 'nateglinide', 'chlorpropamide',\n",
      "       'glimepiride', 'acetohexamide', 'glipizide', 'glyburide', 'tolbutamide',\n",
      "       'pioglitazone', 'rosiglitazone', 'acarbose', 'miglitol', 'troglitazone',\n",
      "       'tolazamide', 'examide', 'citoglipton', 'insulin',\n",
      "       'glyburide.metformin', 'glipizide.metformin',\n",
      "       'glimepiride.pioglitazone', 'metformin.rosiglitazone',\n",
      "       'metformin.pioglitazone', 'change', 'diabetesMed'],\n",
      "      dtype='object')\n",
      "Impute values for the following attributes\n",
      "Index(['diag_1', 'diag_2', 'diag_3'], dtype='object')\n",
      "Mean: 0.5268750000000001, Std: 0.017840438615684313\n",
      "Model params: {'learning_rate': 1.0, 'n_estimators': 50, 'n_gram_range': (2, 2), 'nlp': True, 'pool': True, 'stem': True, 'tfidf': True}\n",
      "Index(['race', 'gender', 'age', 'weight', 'admission_type_id',\n",
      "       'admission_source_id', 'payer_code', 'max_glu_serum', 'A1Cresult',\n",
      "       'metformin', 'repaglinide', 'nateglinide', 'chlorpropamide',\n",
      "       'glimepiride', 'acetohexamide', 'glipizide', 'glyburide', 'tolbutamide',\n",
      "       'pioglitazone', 'rosiglitazone', 'acarbose', 'miglitol', 'troglitazone',\n",
      "       'tolazamide', 'examide', 'citoglipton', 'insulin',\n",
      "       'glyburide.metformin', 'glipizide.metformin',\n",
      "       'glimepiride.pioglitazone', 'metformin.rosiglitazone',\n",
      "       'metformin.pioglitazone', 'change', 'diabetesMed'],\n",
      "      dtype='object')\n",
      "Impute values for the following attributes\n",
      "Index(['diag_1', 'diag_2', 'diag_3'], dtype='object')\n",
      "Mean: 0.541375, Std: 0.015842979517754856\n",
      "Model params: {'learning_rate': 1.0, 'n_estimators': 50, 'n_gram_range': (2, 2), 'nlp': True, 'pool': False, 'stem': True, 'tfidf': True}\n",
      "Index(['race', 'gender', 'age', 'weight', 'admission_type_id',\n",
      "       'admission_source_id', 'payer_code', 'max_glu_serum', 'A1Cresult',\n",
      "       'metformin', 'repaglinide', 'nateglinide', 'chlorpropamide',\n",
      "       'glimepiride', 'acetohexamide', 'glipizide', 'glyburide', 'tolbutamide',\n",
      "       'pioglitazone', 'rosiglitazone', 'acarbose', 'miglitol', 'troglitazone',\n",
      "       'tolazamide', 'examide', 'citoglipton', 'insulin',\n",
      "       'glyburide.metformin', 'glipizide.metformin',\n",
      "       'glimepiride.pioglitazone', 'metformin.rosiglitazone',\n",
      "       'metformin.pioglitazone', 'change', 'diabetesMed'],\n",
      "      dtype='object')\n",
      "Impute values for the following attributes\n",
      "Index(['diag_1', 'diag_2', 'diag_3'], dtype='object')\n",
      "Mean: 0.52675, Std: 0.01777199341660918\n",
      "Model params: {'learning_rate': 1.0, 'n_estimators': 100, 'n_gram_range': None, 'nlp': True, 'pool': True, 'stem': True, 'tfidf': True}\n",
      "Index(['race', 'gender', 'age', 'weight', 'admission_type_id',\n",
      "       'admission_source_id', 'payer_code', 'max_glu_serum', 'A1Cresult',\n",
      "       'metformin', 'repaglinide', 'nateglinide', 'chlorpropamide',\n",
      "       'glimepiride', 'acetohexamide', 'glipizide', 'glyburide', 'tolbutamide',\n",
      "       'pioglitazone', 'rosiglitazone', 'acarbose', 'miglitol', 'troglitazone',\n",
      "       'tolazamide', 'examide', 'citoglipton', 'insulin',\n",
      "       'glyburide.metformin', 'glipizide.metformin',\n",
      "       'glimepiride.pioglitazone', 'metformin.rosiglitazone',\n",
      "       'metformin.pioglitazone', 'change', 'diabetesMed'],\n",
      "      dtype='object')\n",
      "Impute values for the following attributes\n",
      "Index(['diag_1', 'diag_2', 'diag_3'], dtype='object')\n"
     ]
    },
    {
     "ename": "KeyboardInterrupt",
     "evalue": "",
     "output_type": "error",
     "traceback": [
      "\u001b[0;31m---------------------------------------------------------------------------\u001b[0m",
      "\u001b[0;31mKeyboardInterrupt\u001b[0m                         Traceback (most recent call last)",
      "\u001b[0;32m<ipython-input-39-94861222106b>\u001b[0m in \u001b[0;36m<module>\u001b[0;34m\u001b[0m\n\u001b[1;32m     28\u001b[0m \u001b[0;34m\u001b[0m\u001b[0m\n\u001b[1;32m     29\u001b[0m     \u001b[0;32mif\u001b[0m \u001b[0mparam\u001b[0m\u001b[0;34m[\u001b[0m\u001b[0;34m'nlp'\u001b[0m\u001b[0;34m]\u001b[0m\u001b[0;34m:\u001b[0m\u001b[0;34m\u001b[0m\u001b[0;34m\u001b[0m\u001b[0m\n\u001b[0;32m---> 30\u001b[0;31m         \u001b[0mdf\u001b[0m \u001b[0;34m=\u001b[0m \u001b[0mget_nlp\u001b[0m\u001b[0;34m(\u001b[0m\u001b[0mdf\u001b[0m\u001b[0;34m,\u001b[0m \u001b[0mn_gram_range\u001b[0m\u001b[0;34m=\u001b[0m\u001b[0;34m(\u001b[0m\u001b[0;36m1\u001b[0m\u001b[0;34m,\u001b[0m\u001b[0;36m1\u001b[0m\u001b[0;34m)\u001b[0m\u001b[0;34m,\u001b[0m \u001b[0mstem\u001b[0m\u001b[0;34m=\u001b[0m\u001b[0;32mTrue\u001b[0m\u001b[0;34m,\u001b[0m \u001b[0mtfidf\u001b[0m\u001b[0;34m=\u001b[0m\u001b[0;32mTrue\u001b[0m\u001b[0;34m)\u001b[0m\u001b[0;34m\u001b[0m\u001b[0;34m\u001b[0m\u001b[0m\n\u001b[0m\u001b[1;32m     31\u001b[0m     \u001b[0;32melse\u001b[0m\u001b[0;34m:\u001b[0m\u001b[0;34m\u001b[0m\u001b[0;34m\u001b[0m\u001b[0m\n\u001b[1;32m     32\u001b[0m         \u001b[0;32mif\u001b[0m \u001b[0mparam\u001b[0m\u001b[0;34m[\u001b[0m\u001b[0;34m'pool'\u001b[0m\u001b[0;34m]\u001b[0m\u001b[0;34m:\u001b[0m\u001b[0;34m\u001b[0m\u001b[0;34m\u001b[0m\u001b[0m\n",
      "\u001b[0;32m<ipython-input-18-024f14651d8d>\u001b[0m in \u001b[0;36mget_nlp\u001b[0;34m(df, n_gram_range, stem, tfidf)\u001b[0m\n\u001b[1;32m     10\u001b[0m     \u001b[0;32mif\u001b[0m \u001b[0;34m'description'\u001b[0m \u001b[0;32min\u001b[0m \u001b[0mdf\u001b[0m\u001b[0;34m.\u001b[0m\u001b[0mcolumns\u001b[0m\u001b[0;34m:\u001b[0m\u001b[0;34m\u001b[0m\u001b[0;34m\u001b[0m\u001b[0m\n\u001b[1;32m     11\u001b[0m         \u001b[0;31m#Filter description and possibly stem\u001b[0m\u001b[0;34m\u001b[0m\u001b[0;34m\u001b[0m\u001b[0;34m\u001b[0m\u001b[0m\n\u001b[0;32m---> 12\u001b[0;31m         \u001b[0mdf\u001b[0m\u001b[0;34m[\u001b[0m\u001b[0;34m'description'\u001b[0m\u001b[0;34m]\u001b[0m \u001b[0;34m=\u001b[0m \u001b[0mdf\u001b[0m\u001b[0;34m[\u001b[0m\u001b[0;34m'description'\u001b[0m\u001b[0;34m]\u001b[0m\u001b[0;34m.\u001b[0m\u001b[0mapply\u001b[0m\u001b[0;34m(\u001b[0m\u001b[0;32mlambda\u001b[0m \u001b[0mtxt\u001b[0m\u001b[0;34m:\u001b[0m \u001b[0;34m' '\u001b[0m\u001b[0;34m.\u001b[0m\u001b[0mjoin\u001b[0m\u001b[0;34m(\u001b[0m\u001b[0mtokenize\u001b[0m\u001b[0;34m(\u001b[0m\u001b[0mtxt\u001b[0m\u001b[0;34m,\u001b[0m \u001b[0mstem\u001b[0m\u001b[0;34m=\u001b[0m\u001b[0mstem\u001b[0m\u001b[0;34m)\u001b[0m\u001b[0;34m)\u001b[0m\u001b[0;34m)\u001b[0m\u001b[0;34m\u001b[0m\u001b[0;34m\u001b[0m\u001b[0m\n\u001b[0m\u001b[1;32m     13\u001b[0m \u001b[0;34m\u001b[0m\u001b[0m\n\u001b[1;32m     14\u001b[0m         \u001b[0mX_transformed\u001b[0m \u001b[0;34m=\u001b[0m \u001b[0mcount_vect\u001b[0m\u001b[0;34m.\u001b[0m\u001b[0mfit_transform\u001b[0m\u001b[0;34m(\u001b[0m\u001b[0mdf\u001b[0m\u001b[0;34m[\u001b[0m\u001b[0;34m'description'\u001b[0m\u001b[0;34m]\u001b[0m\u001b[0;34m.\u001b[0m\u001b[0mvalues\u001b[0m\u001b[0;34m)\u001b[0m\u001b[0;34m\u001b[0m\u001b[0;34m\u001b[0m\u001b[0m\n",
      "\u001b[0;32m/anaconda3/lib/python3.7/site-packages/pandas/core/series.py\u001b[0m in \u001b[0;36mapply\u001b[0;34m(self, func, convert_dtype, args, **kwds)\u001b[0m\n\u001b[1;32m   3589\u001b[0m             \u001b[0;32melse\u001b[0m\u001b[0;34m:\u001b[0m\u001b[0;34m\u001b[0m\u001b[0;34m\u001b[0m\u001b[0m\n\u001b[1;32m   3590\u001b[0m                 \u001b[0mvalues\u001b[0m \u001b[0;34m=\u001b[0m \u001b[0mself\u001b[0m\u001b[0;34m.\u001b[0m\u001b[0mastype\u001b[0m\u001b[0;34m(\u001b[0m\u001b[0mobject\u001b[0m\u001b[0;34m)\u001b[0m\u001b[0;34m.\u001b[0m\u001b[0mvalues\u001b[0m\u001b[0;34m\u001b[0m\u001b[0;34m\u001b[0m\u001b[0m\n\u001b[0;32m-> 3591\u001b[0;31m                 \u001b[0mmapped\u001b[0m \u001b[0;34m=\u001b[0m \u001b[0mlib\u001b[0m\u001b[0;34m.\u001b[0m\u001b[0mmap_infer\u001b[0m\u001b[0;34m(\u001b[0m\u001b[0mvalues\u001b[0m\u001b[0;34m,\u001b[0m \u001b[0mf\u001b[0m\u001b[0;34m,\u001b[0m \u001b[0mconvert\u001b[0m\u001b[0;34m=\u001b[0m\u001b[0mconvert_dtype\u001b[0m\u001b[0;34m)\u001b[0m\u001b[0;34m\u001b[0m\u001b[0;34m\u001b[0m\u001b[0m\n\u001b[0m\u001b[1;32m   3592\u001b[0m \u001b[0;34m\u001b[0m\u001b[0m\n\u001b[1;32m   3593\u001b[0m         \u001b[0;32mif\u001b[0m \u001b[0mlen\u001b[0m\u001b[0;34m(\u001b[0m\u001b[0mmapped\u001b[0m\u001b[0;34m)\u001b[0m \u001b[0;32mand\u001b[0m \u001b[0misinstance\u001b[0m\u001b[0;34m(\u001b[0m\u001b[0mmapped\u001b[0m\u001b[0;34m[\u001b[0m\u001b[0;36m0\u001b[0m\u001b[0;34m]\u001b[0m\u001b[0;34m,\u001b[0m \u001b[0mSeries\u001b[0m\u001b[0;34m)\u001b[0m\u001b[0;34m:\u001b[0m\u001b[0;34m\u001b[0m\u001b[0;34m\u001b[0m\u001b[0m\n",
      "\u001b[0;32mpandas/_libs/lib.pyx\u001b[0m in \u001b[0;36mpandas._libs.lib.map_infer\u001b[0;34m()\u001b[0m\n",
      "\u001b[0;32m<ipython-input-18-024f14651d8d>\u001b[0m in \u001b[0;36m<lambda>\u001b[0;34m(txt)\u001b[0m\n\u001b[1;32m     10\u001b[0m     \u001b[0;32mif\u001b[0m \u001b[0;34m'description'\u001b[0m \u001b[0;32min\u001b[0m \u001b[0mdf\u001b[0m\u001b[0;34m.\u001b[0m\u001b[0mcolumns\u001b[0m\u001b[0;34m:\u001b[0m\u001b[0;34m\u001b[0m\u001b[0;34m\u001b[0m\u001b[0m\n\u001b[1;32m     11\u001b[0m         \u001b[0;31m#Filter description and possibly stem\u001b[0m\u001b[0;34m\u001b[0m\u001b[0;34m\u001b[0m\u001b[0;34m\u001b[0m\u001b[0m\n\u001b[0;32m---> 12\u001b[0;31m         \u001b[0mdf\u001b[0m\u001b[0;34m[\u001b[0m\u001b[0;34m'description'\u001b[0m\u001b[0;34m]\u001b[0m \u001b[0;34m=\u001b[0m \u001b[0mdf\u001b[0m\u001b[0;34m[\u001b[0m\u001b[0;34m'description'\u001b[0m\u001b[0;34m]\u001b[0m\u001b[0;34m.\u001b[0m\u001b[0mapply\u001b[0m\u001b[0;34m(\u001b[0m\u001b[0;32mlambda\u001b[0m \u001b[0mtxt\u001b[0m\u001b[0;34m:\u001b[0m \u001b[0;34m' '\u001b[0m\u001b[0;34m.\u001b[0m\u001b[0mjoin\u001b[0m\u001b[0;34m(\u001b[0m\u001b[0mtokenize\u001b[0m\u001b[0;34m(\u001b[0m\u001b[0mtxt\u001b[0m\u001b[0;34m,\u001b[0m \u001b[0mstem\u001b[0m\u001b[0;34m=\u001b[0m\u001b[0mstem\u001b[0m\u001b[0;34m)\u001b[0m\u001b[0;34m)\u001b[0m\u001b[0;34m)\u001b[0m\u001b[0;34m\u001b[0m\u001b[0;34m\u001b[0m\u001b[0m\n\u001b[0m\u001b[1;32m     13\u001b[0m \u001b[0;34m\u001b[0m\u001b[0m\n\u001b[1;32m     14\u001b[0m         \u001b[0mX_transformed\u001b[0m \u001b[0;34m=\u001b[0m \u001b[0mcount_vect\u001b[0m\u001b[0;34m.\u001b[0m\u001b[0mfit_transform\u001b[0m\u001b[0;34m(\u001b[0m\u001b[0mdf\u001b[0m\u001b[0;34m[\u001b[0m\u001b[0;34m'description'\u001b[0m\u001b[0;34m]\u001b[0m\u001b[0;34m.\u001b[0m\u001b[0mvalues\u001b[0m\u001b[0;34m)\u001b[0m\u001b[0;34m\u001b[0m\u001b[0;34m\u001b[0m\u001b[0m\n",
      "\u001b[0;32m<ipython-input-17-416e2c154bc5>\u001b[0m in \u001b[0;36mtokenize\u001b[0;34m(x, stem)\u001b[0m\n\u001b[1;32m      9\u001b[0m     \u001b[0;32mif\u001b[0m \u001b[0mstem\u001b[0m\u001b[0;34m:\u001b[0m\u001b[0;34m\u001b[0m\u001b[0;34m\u001b[0m\u001b[0m\n\u001b[1;32m     10\u001b[0m         \u001b[0mstemmer\u001b[0m \u001b[0;34m=\u001b[0m \u001b[0mPorterStemmer\u001b[0m\u001b[0;34m(\u001b[0m\u001b[0;34m)\u001b[0m\u001b[0;34m\u001b[0m\u001b[0;34m\u001b[0m\u001b[0m\n\u001b[0;32m---> 11\u001b[0;31m         \u001b[0;32mreturn\u001b[0m \u001b[0;34m[\u001b[0m\u001b[0mstemmer\u001b[0m\u001b[0;34m.\u001b[0m\u001b[0mstem\u001b[0m\u001b[0;34m(\u001b[0m\u001b[0mi\u001b[0m\u001b[0;34m)\u001b[0m \u001b[0;32mfor\u001b[0m \u001b[0mi\u001b[0m \u001b[0;32min\u001b[0m \u001b[0mlist\u001b[0m\u001b[0;34m(\u001b[0m\u001b[0mfilter\u001b[0m\u001b[0;34m(\u001b[0m\u001b[0;32mlambda\u001b[0m \u001b[0mx\u001b[0m\u001b[0;34m:\u001b[0m \u001b[0mx\u001b[0m \u001b[0;32mnot\u001b[0m \u001b[0;32min\u001b[0m \u001b[0mrm_word\u001b[0m\u001b[0;34m,\u001b[0m \u001b[0mword_tokenize\u001b[0m\u001b[0;34m(\u001b[0m\u001b[0mx\u001b[0m\u001b[0;34m)\u001b[0m\u001b[0;34m)\u001b[0m\u001b[0;34m)\u001b[0m\u001b[0;34m]\u001b[0m\u001b[0;34m\u001b[0m\u001b[0;34m\u001b[0m\u001b[0m\n\u001b[0m\u001b[1;32m     12\u001b[0m     \u001b[0;32melse\u001b[0m\u001b[0;34m:\u001b[0m\u001b[0;34m\u001b[0m\u001b[0;34m\u001b[0m\u001b[0m\n\u001b[1;32m     13\u001b[0m         \u001b[0;32mreturn\u001b[0m \u001b[0mlist\u001b[0m\u001b[0;34m(\u001b[0m\u001b[0mfilter\u001b[0m\u001b[0;34m(\u001b[0m\u001b[0;32mlambda\u001b[0m \u001b[0mx\u001b[0m\u001b[0;34m:\u001b[0m \u001b[0mx\u001b[0m \u001b[0;32mnot\u001b[0m \u001b[0;32min\u001b[0m \u001b[0mrm_word\u001b[0m\u001b[0;34m,\u001b[0m \u001b[0mword_tokenize\u001b[0m\u001b[0;34m(\u001b[0m\u001b[0mx\u001b[0m\u001b[0;34m)\u001b[0m\u001b[0;34m)\u001b[0m\u001b[0;34m)\u001b[0m\u001b[0;34m\u001b[0m\u001b[0;34m\u001b[0m\u001b[0m\n",
      "\u001b[0;32m<ipython-input-17-416e2c154bc5>\u001b[0m in \u001b[0;36m<listcomp>\u001b[0;34m(.0)\u001b[0m\n\u001b[1;32m      9\u001b[0m     \u001b[0;32mif\u001b[0m \u001b[0mstem\u001b[0m\u001b[0;34m:\u001b[0m\u001b[0;34m\u001b[0m\u001b[0;34m\u001b[0m\u001b[0m\n\u001b[1;32m     10\u001b[0m         \u001b[0mstemmer\u001b[0m \u001b[0;34m=\u001b[0m \u001b[0mPorterStemmer\u001b[0m\u001b[0;34m(\u001b[0m\u001b[0;34m)\u001b[0m\u001b[0;34m\u001b[0m\u001b[0;34m\u001b[0m\u001b[0m\n\u001b[0;32m---> 11\u001b[0;31m         \u001b[0;32mreturn\u001b[0m \u001b[0;34m[\u001b[0m\u001b[0mstemmer\u001b[0m\u001b[0;34m.\u001b[0m\u001b[0mstem\u001b[0m\u001b[0;34m(\u001b[0m\u001b[0mi\u001b[0m\u001b[0;34m)\u001b[0m \u001b[0;32mfor\u001b[0m \u001b[0mi\u001b[0m \u001b[0;32min\u001b[0m \u001b[0mlist\u001b[0m\u001b[0;34m(\u001b[0m\u001b[0mfilter\u001b[0m\u001b[0;34m(\u001b[0m\u001b[0;32mlambda\u001b[0m \u001b[0mx\u001b[0m\u001b[0;34m:\u001b[0m \u001b[0mx\u001b[0m \u001b[0;32mnot\u001b[0m \u001b[0;32min\u001b[0m \u001b[0mrm_word\u001b[0m\u001b[0;34m,\u001b[0m \u001b[0mword_tokenize\u001b[0m\u001b[0;34m(\u001b[0m\u001b[0mx\u001b[0m\u001b[0;34m)\u001b[0m\u001b[0;34m)\u001b[0m\u001b[0;34m)\u001b[0m\u001b[0;34m]\u001b[0m\u001b[0;34m\u001b[0m\u001b[0;34m\u001b[0m\u001b[0m\n\u001b[0m\u001b[1;32m     12\u001b[0m     \u001b[0;32melse\u001b[0m\u001b[0;34m:\u001b[0m\u001b[0;34m\u001b[0m\u001b[0;34m\u001b[0m\u001b[0m\n\u001b[1;32m     13\u001b[0m         \u001b[0;32mreturn\u001b[0m \u001b[0mlist\u001b[0m\u001b[0;34m(\u001b[0m\u001b[0mfilter\u001b[0m\u001b[0;34m(\u001b[0m\u001b[0;32mlambda\u001b[0m \u001b[0mx\u001b[0m\u001b[0;34m:\u001b[0m \u001b[0mx\u001b[0m \u001b[0;32mnot\u001b[0m \u001b[0;32min\u001b[0m \u001b[0mrm_word\u001b[0m\u001b[0;34m,\u001b[0m \u001b[0mword_tokenize\u001b[0m\u001b[0;34m(\u001b[0m\u001b[0mx\u001b[0m\u001b[0;34m)\u001b[0m\u001b[0;34m)\u001b[0m\u001b[0;34m)\u001b[0m\u001b[0;34m\u001b[0m\u001b[0;34m\u001b[0m\u001b[0m\n",
      "\u001b[0;32m/anaconda3/lib/python3.7/site-packages/nltk/stem/porter.py\u001b[0m in \u001b[0;36mstem\u001b[0;34m(self, word)\u001b[0m\n\u001b[1;32m    668\u001b[0m         \u001b[0mstem\u001b[0m \u001b[0;34m=\u001b[0m \u001b[0mself\u001b[0m\u001b[0;34m.\u001b[0m\u001b[0m_step1b\u001b[0m\u001b[0;34m(\u001b[0m\u001b[0mstem\u001b[0m\u001b[0;34m)\u001b[0m\u001b[0;34m\u001b[0m\u001b[0;34m\u001b[0m\u001b[0m\n\u001b[1;32m    669\u001b[0m         \u001b[0mstem\u001b[0m \u001b[0;34m=\u001b[0m \u001b[0mself\u001b[0m\u001b[0;34m.\u001b[0m\u001b[0m_step1c\u001b[0m\u001b[0;34m(\u001b[0m\u001b[0mstem\u001b[0m\u001b[0;34m)\u001b[0m\u001b[0;34m\u001b[0m\u001b[0;34m\u001b[0m\u001b[0m\n\u001b[0;32m--> 670\u001b[0;31m         \u001b[0mstem\u001b[0m \u001b[0;34m=\u001b[0m \u001b[0mself\u001b[0m\u001b[0;34m.\u001b[0m\u001b[0m_step2\u001b[0m\u001b[0;34m(\u001b[0m\u001b[0mstem\u001b[0m\u001b[0;34m)\u001b[0m\u001b[0;34m\u001b[0m\u001b[0;34m\u001b[0m\u001b[0m\n\u001b[0m\u001b[1;32m    671\u001b[0m         \u001b[0mstem\u001b[0m \u001b[0;34m=\u001b[0m \u001b[0mself\u001b[0m\u001b[0;34m.\u001b[0m\u001b[0m_step3\u001b[0m\u001b[0;34m(\u001b[0m\u001b[0mstem\u001b[0m\u001b[0;34m)\u001b[0m\u001b[0;34m\u001b[0m\u001b[0;34m\u001b[0m\u001b[0m\n\u001b[1;32m    672\u001b[0m         \u001b[0mstem\u001b[0m \u001b[0;34m=\u001b[0m \u001b[0mself\u001b[0m\u001b[0;34m.\u001b[0m\u001b[0m_step4\u001b[0m\u001b[0;34m(\u001b[0m\u001b[0mstem\u001b[0m\u001b[0;34m)\u001b[0m\u001b[0;34m\u001b[0m\u001b[0;34m\u001b[0m\u001b[0m\n",
      "\u001b[0;32m/anaconda3/lib/python3.7/site-packages/nltk/stem/porter.py\u001b[0m in \u001b[0;36m_step2\u001b[0;34m(self, word)\u001b[0m\n\u001b[1;32m    512\u001b[0m             \u001b[0mrules\u001b[0m\u001b[0;34m.\u001b[0m\u001b[0mappend\u001b[0m\u001b[0;34m(\u001b[0m\u001b[0;34m(\u001b[0m\u001b[0;34m\"logi\"\u001b[0m\u001b[0;34m,\u001b[0m \u001b[0;34m\"log\"\u001b[0m\u001b[0;34m,\u001b[0m \u001b[0mself\u001b[0m\u001b[0;34m.\u001b[0m\u001b[0m_has_positive_measure\u001b[0m\u001b[0;34m)\u001b[0m\u001b[0;34m)\u001b[0m\u001b[0;34m\u001b[0m\u001b[0;34m\u001b[0m\u001b[0m\n\u001b[1;32m    513\u001b[0m \u001b[0;34m\u001b[0m\u001b[0m\n\u001b[0;32m--> 514\u001b[0;31m         \u001b[0;32mreturn\u001b[0m \u001b[0mself\u001b[0m\u001b[0;34m.\u001b[0m\u001b[0m_apply_rule_list\u001b[0m\u001b[0;34m(\u001b[0m\u001b[0mword\u001b[0m\u001b[0;34m,\u001b[0m \u001b[0mrules\u001b[0m\u001b[0;34m)\u001b[0m\u001b[0;34m\u001b[0m\u001b[0;34m\u001b[0m\u001b[0m\n\u001b[0m\u001b[1;32m    515\u001b[0m \u001b[0;34m\u001b[0m\u001b[0m\n\u001b[1;32m    516\u001b[0m     \u001b[0;32mdef\u001b[0m \u001b[0m_step3\u001b[0m\u001b[0;34m(\u001b[0m\u001b[0mself\u001b[0m\u001b[0;34m,\u001b[0m \u001b[0mword\u001b[0m\u001b[0;34m)\u001b[0m\u001b[0;34m:\u001b[0m\u001b[0;34m\u001b[0m\u001b[0;34m\u001b[0m\u001b[0m\n",
      "\u001b[0;32m/anaconda3/lib/python3.7/site-packages/nltk/stem/porter.py\u001b[0m in \u001b[0;36m_apply_rule_list\u001b[0;34m(self, word, rules)\u001b[0m\n\u001b[1;32m    265\u001b[0m                     \u001b[0;31m# Don't try any further rules\u001b[0m\u001b[0;34m\u001b[0m\u001b[0;34m\u001b[0m\u001b[0;34m\u001b[0m\u001b[0m\n\u001b[1;32m    266\u001b[0m                     \u001b[0;32mreturn\u001b[0m \u001b[0mword\u001b[0m\u001b[0;34m\u001b[0m\u001b[0;34m\u001b[0m\u001b[0m\n\u001b[0;32m--> 267\u001b[0;31m             \u001b[0;32mif\u001b[0m \u001b[0mword\u001b[0m\u001b[0;34m.\u001b[0m\u001b[0mendswith\u001b[0m\u001b[0;34m(\u001b[0m\u001b[0msuffix\u001b[0m\u001b[0;34m)\u001b[0m\u001b[0;34m:\u001b[0m\u001b[0;34m\u001b[0m\u001b[0;34m\u001b[0m\u001b[0m\n\u001b[0m\u001b[1;32m    268\u001b[0m                 \u001b[0mstem\u001b[0m \u001b[0;34m=\u001b[0m \u001b[0mself\u001b[0m\u001b[0;34m.\u001b[0m\u001b[0m_replace_suffix\u001b[0m\u001b[0;34m(\u001b[0m\u001b[0mword\u001b[0m\u001b[0;34m,\u001b[0m \u001b[0msuffix\u001b[0m\u001b[0;34m,\u001b[0m \u001b[0;34m''\u001b[0m\u001b[0;34m)\u001b[0m\u001b[0;34m\u001b[0m\u001b[0;34m\u001b[0m\u001b[0m\n\u001b[1;32m    269\u001b[0m                 \u001b[0;32mif\u001b[0m \u001b[0mcondition\u001b[0m \u001b[0;32mis\u001b[0m \u001b[0;32mNone\u001b[0m \u001b[0;32mor\u001b[0m \u001b[0mcondition\u001b[0m\u001b[0;34m(\u001b[0m\u001b[0mstem\u001b[0m\u001b[0;34m)\u001b[0m\u001b[0;34m:\u001b[0m\u001b[0;34m\u001b[0m\u001b[0;34m\u001b[0m\u001b[0m\n",
      "\u001b[0;31mKeyboardInterrupt\u001b[0m: "
     ]
    }
   ],
   "source": [
    "from sklearn.model_selection import KFold\n",
    "\n",
    "#Run grid search\n",
    "res_ab = list()\n",
    "n_fold = 5\n",
    "DF = [df_train, df_validate, df_test]\n",
    "\n",
    "# RandomForest\n",
    "for param in param_grid_ab:\n",
    "\n",
    "    if not param['nlp'] and param['stem']:\n",
    "        #Skip this parameter setting since unreasonable\n",
    "        continue\n",
    "        \n",
    "    if not param['nlp'] and not param['n_gram_range'] == None:\n",
    "        #Skip this parameter setting since unreasonable\n",
    "        continue\n",
    "        \n",
    "    if not param['nlp'] and param['pool'] == True:\n",
    "        #Skip this parameter setting since unreasonable\n",
    "        continue\n",
    "        \n",
    "    print(\"Model params:\", param)\n",
    "        \n",
    "    df = pd.concat(DF, axis = 0)    \n",
    "    df,y = prep_df(df, pool=param['pool'])\n",
    "    df = get_transforms(df, impute=True, imp=\"mean\")\n",
    "\n",
    "    if param['nlp']:\n",
    "        df = get_nlp(df, n_gram_range=(1,1), stem=True, tfidf=True)\n",
    "    else:\n",
    "        if param['pool']:\n",
    "            df = df.drop(columns=['description'])\n",
    "        else:\n",
    "            df = df.drop(columns=[type_txt])\n",
    "            \n",
    "    X_train, y_train, X_val, y_val, X_test, y_test = split_df(DF,df,y)\n",
    "    \n",
    "    #CV over grid search\n",
    "    acc_cv = []\n",
    "    for train, val in zip(KFold(n_splits=n_fold).split(X_train), KFold(n_splits=n_fold).split(X_val)):\n",
    "        idx_train,_ = train\n",
    "        idx_val,_ = val\n",
    "        \n",
    "        clf = AdaBoostClassifier(n_estimators=param['n_estimators'], learning_rate=param['learning_rate'])\n",
    "        clf.fit(X_train.values[idx_train],y_train[idx_train])\n",
    "        pred_test = clf.predict(X_val.values[idx_val])\n",
    "        acc_cv.append(accuracy_score(y_val[idx_val], pred_test))\n",
    "    \n",
    "    acc = np.mean(acc_cv)\n",
    "    acc_sd = np.std(acc_cv)\n",
    "    print('Mean: {}, Std: {}'.format(acc, acc_sd))\n",
    "    res_ab.append((acc, acc_sd, param))"
   ]
  },
  {
   "cell_type": "code",
   "execution_count": 46,
   "metadata": {},
   "outputs": [
    {
     "name": "stdout",
     "output_type": "stream",
     "text": [
      "Index(['race', 'gender', 'age', 'weight', 'admission_type_id',\n",
      "       'admission_source_id', 'payer_code', 'max_glu_serum', 'A1Cresult',\n",
      "       'metformin', 'repaglinide', 'nateglinide', 'chlorpropamide',\n",
      "       'glimepiride', 'acetohexamide', 'glipizide', 'glyburide', 'tolbutamide',\n",
      "       'pioglitazone', 'rosiglitazone', 'acarbose', 'miglitol', 'troglitazone',\n",
      "       'tolazamide', 'examide', 'citoglipton', 'insulin',\n",
      "       'glyburide.metformin', 'glipizide.metformin',\n",
      "       'glimepiride.pioglitazone', 'metformin.rosiglitazone',\n",
      "       'metformin.pioglitazone', 'change', 'diabetesMed'],\n",
      "      dtype='object')\n",
      "Impute values for the following attributes\n",
      "Index(['diag_1', 'diag_2', 'diag_3'], dtype='object')\n"
     ]
    }
   ],
   "source": [
    "best_model = 35\n",
    "param_best_model = res_rf[35][2]\n",
    "param_best_model\n",
    "\n",
    "df = pd.concat(DF, axis = 0)    \n",
    "df,y = prep_df(df, pool=False)\n",
    "df = get_transforms(df, impute=True, imp=\"mean\")\n",
    "df = get_nlp(df, n_gram_range=(2,2), stem=True, tfidf=True)\n",
    "X_train, y_train, X_val, y_val, X_test, y_test = split_df(DF,df,y)"
   ]
  },
  {
   "cell_type": "code",
   "execution_count": 48,
   "metadata": {},
   "outputs": [],
   "source": [
    "X = np.concatenate((X_train, X_val), axis = 0)\n",
    "y = np.concatenate((y_train, y_val), axis = 0)"
   ]
  },
  {
   "cell_type": "code",
   "execution_count": 52,
   "metadata": {},
   "outputs": [
    {
     "name": "stderr",
     "output_type": "stream",
     "text": [
      "/anaconda3/lib/python3.7/site-packages/sklearn/ensemble/forest.py:246: FutureWarning: The default value of n_estimators will change from 10 in version 0.20 to 100 in 0.22.\n",
      "  \"10 in version 0.20 to 100 in 0.22.\", FutureWarning)\n"
     ]
    }
   ],
   "source": [
    "clf = RandomForestClassifier(max_depth=50, min_samples_split=10)\n",
    "clf.fit(X, y)\n",
    "\n",
    "pred_test = clf.predict(X_test.values)\n",
    "acc_test = accuracy_score(y_test, pred_test)\n",
    "con_test = confusion_matrix(y_test, pred_test)"
   ]
  },
  {
   "cell_type": "code",
   "execution_count": 53,
   "metadata": {
    "scrolled": true
   },
   "outputs": [
    {
     "data": {
      "text/plain": [
       "0.6195"
      ]
     },
     "execution_count": 53,
     "metadata": {},
     "output_type": "execute_result"
    }
   ],
   "source": [
    "acc_test"
   ]
  },
  {
   "cell_type": "code",
   "execution_count": 54,
   "metadata": {},
   "outputs": [
    {
     "data": {
      "text/plain": [
       "array([[967, 240],\n",
       "       [521, 272]])"
      ]
     },
     "execution_count": 54,
     "metadata": {},
     "output_type": "execute_result"
    }
   ],
   "source": [
    "con_test"
   ]
  },
  {
   "cell_type": "code",
   "execution_count": null,
   "metadata": {},
   "outputs": [],
   "source": []
  }
 ],
 "metadata": {
  "kernelspec": {
   "display_name": "Python 3",
   "language": "python",
   "name": "python3"
  },
  "language_info": {
   "codemirror_mode": {
    "name": "ipython",
    "version": 3
   },
   "file_extension": ".py",
   "mimetype": "text/x-python",
   "name": "python",
   "nbconvert_exporter": "python",
   "pygments_lexer": "ipython3",
   "version": "3.7.1"
  },
  "varInspector": {
   "cols": {
    "lenName": 16,
    "lenType": 16,
    "lenVar": 40
   },
   "kernels_config": {
    "python": {
     "delete_cmd_postfix": "",
     "delete_cmd_prefix": "del ",
     "library": "var_list.py",
     "varRefreshCmd": "print(var_dic_list())"
    },
    "r": {
     "delete_cmd_postfix": ") ",
     "delete_cmd_prefix": "rm(",
     "library": "var_list.r",
     "varRefreshCmd": "cat(var_dic_list()) "
    }
   },
   "types_to_exclude": [
    "module",
    "function",
    "builtin_function_or_method",
    "instance",
    "_Feature"
   ],
   "window_display": false
  }
 },
 "nbformat": 4,
 "nbformat_minor": 2
}
