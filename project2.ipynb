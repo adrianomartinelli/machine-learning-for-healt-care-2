{
 "cells": [
  {
   "cell_type": "code",
   "execution_count": 1,
   "metadata": {},
   "outputs": [],
   "source": [
    "import numpy as np\n",
    "import pandas as pd"
   ]
  },
  {
   "cell_type": "code",
   "execution_count": 2,
   "metadata": {},
   "outputs": [],
   "source": [
    "df_train = pd.read_csv(\"10k_diabetes/diab_train.csv\",\n",
    "                       na_values = [\"?\", \"Not Available\", \"Not Mapped\"])\n",
    "df_test = pd.read_csv(\"10k_diabetes/diab_test.csv\")\n",
    "df_validate = pd.read_csv(\"10k_diabetes/diab_validation.csv\")"
   ]
  },
  {
   "cell_type": "code",
   "execution_count": 3,
   "metadata": {
    "scrolled": true
   },
   "outputs": [
    {
     "name": "stdout",
     "output_type": "stream",
     "text": [
      "(6000, 52)\n",
      "Unnamed: 0                   int64\n",
      "race                        object\n",
      "gender                      object\n",
      "age                         object\n",
      "weight                      object\n",
      "admission_type_id           object\n",
      "discharge_disposition_id    object\n",
      "admission_source_id         object\n",
      "time_in_hospital             int64\n",
      "payer_code                  object\n",
      "medical_specialty           object\n",
      "num_lab_procedures           int64\n",
      "num_procedures               int64\n",
      "num_medications              int64\n",
      "number_outpatient            int64\n",
      "number_emergency             int64\n",
      "number_inpatient             int64\n",
      "diag_1                      object\n",
      "diag_2                      object\n",
      "diag_3                      object\n",
      "number_diagnoses             int64\n",
      "max_glu_serum               object\n",
      "A1Cresult                   object\n",
      "metformin                   object\n",
      "repaglinide                 object\n",
      "nateglinide                 object\n",
      "chlorpropamide              object\n",
      "glimepiride                 object\n",
      "acetohexamide               object\n",
      "glipizide                   object\n",
      "glyburide                   object\n",
      "tolbutamide                 object\n",
      "pioglitazone                object\n",
      "rosiglitazone               object\n",
      "acarbose                    object\n",
      "miglitol                    object\n",
      "troglitazone                object\n",
      "tolazamide                  object\n",
      "examide                     object\n",
      "citoglipton                 object\n",
      "insulin                     object\n",
      "glyburide.metformin         object\n",
      "glipizide.metformin         object\n",
      "glimepiride.pioglitazone    object\n",
      "metformin.rosiglitazone     object\n",
      "metformin.pioglitazone      object\n",
      "change                      object\n",
      "diabetesMed                 object\n",
      "readmitted                   int64\n",
      "diag_1_desc                 object\n",
      "diag_2_desc                 object\n",
      "diag_3_desc                 object\n",
      "dtype: object\n"
     ]
    }
   ],
   "source": [
    "print(df_train.shape)\n",
    "print(df_train.dtypes)"
   ]
  },
  {
   "cell_type": "code",
   "execution_count": 4,
   "metadata": {},
   "outputs": [],
   "source": [
    "type_txt = [\"discharge_disposition_id\",\n",
    "           \"medical_specialty\",\n",
    "           \"diag_1_desc\",\n",
    "           \"diag_2_desc\",\n",
    "           \"diag_3_desc\"]\n",
    "\n",
    "type_cat = [\"race\",\n",
    "          \"gender\",\n",
    "          \"age\",\n",
    "          \"weight\",\n",
    "          \"admission_type_id\",\n",
    "        \"admission_source_id\",\n",
    "        \"payer_code\",\n",
    "          \"max_glu_serum\",\n",
    "           \"A1Cresult\",\n",
    "           \"metformin\",\n",
    "           \"repaglinide\",\n",
    "           \"nateglinide\",\n",
    "           \"chlorpropamide\",\n",
    "           \"glimepiride\",\n",
    "           \"acetohexamide\",\n",
    "           \"glipizide\",\n",
    "           \"glyburide\",\n",
    "           \"tolbutamide\",\n",
    "           \"pioglitazone\",\n",
    "           \"rosiglitazone\",\n",
    "           \"acarbose\",\n",
    "           \"miglitol\",\n",
    "           \"troglitazone\",\n",
    "           \"tolazamide\",\n",
    "           \"examide\",\n",
    "           \"citoglipton\",\n",
    "           \"insulin\",\n",
    "           \"glyburide.metformin\",\n",
    "           \"glipizide.metformin\",\n",
    "           \"glimepiride.pioglitazone\",\n",
    "           \"metformin.rosiglitazone\",\n",
    "           \"metformin.pioglitazone\",\n",
    "           \"change\",\n",
    "           \"diabetesMed\"]\n",
    "\n",
    "type_le = [\"age\", \"weight\", \"A1Cresult\"]\n",
    "\n",
    "type_int = [\"time_in_hospital\",\n",
    "           \"num_lab_procedures\",\n",
    "           \"num_procedures\",\n",
    "           \"num_medications\",\n",
    "           \"number_outpatient\",\n",
    "           \"number_emergency\",\n",
    "           \"number_inpatient\",\n",
    "           \"number_diagnoses\"]\n",
    "\n",
    "type_float = [\"diag_1\",\n",
    "             \"diag_2\",\n",
    "             \"diag_3\"]"
   ]
  },
  {
   "cell_type": "code",
   "execution_count": 5,
   "metadata": {
    "scrolled": true
   },
   "outputs": [],
   "source": [
    "#l = list()\n",
    "#for columnName, _ in df_train.iteritems():\n",
    "#    if(df_train[columnName].dtypes == np.object):\n",
    "#        l.append(df_train[columnName].value_counts(dropna = False))"
   ]
  },
  {
   "cell_type": "code",
   "execution_count": 6,
   "metadata": {},
   "outputs": [],
   "source": [
    "from sklearn.impute import SimpleImputer\n",
    "\n",
    "def prep_data(df, impute=True, imp = \"mean\", nlp=False):\n",
    "    y = df[\"readmitted\"]\n",
    "    df = df.drop(columns=['readmitted', 'Unnamed: 0'])\n",
    "    \n",
    "    if not nlp:\n",
    "        df = df.drop(columns = type_txt)\n",
    "    #Cast types\n",
    "    #for i in type_cat:\n",
    "    #    df[i] = df[i].astype('category')\n",
    "\n",
    "    for i in type_int:\n",
    "        #df_train[i] = df_train[i].astype('int32')\n",
    "        df[i] = pd.to_numeric(df[i], errors='coerce', downcast='integer')\n",
    "\n",
    "    for i in type_float:\n",
    "        df[i] = pd.to_numeric(df[i], errors='coerce', downcast='float')\n",
    "    \n",
    "    #Get features that are categorical and create oh encoding\n",
    "    ohe_mask = df.dtypes==object\n",
    "    df_ohe = pd.get_dummies(df, prefix=df.columns[ohe_mask].tolist(),\n",
    "               columns=df.columns[ohe_mask].tolist())\n",
    "    \n",
    "    #Impute missing values\n",
    "    if impute:\n",
    "        idx = pd.isnull(df_ohe).any().tolist()\n",
    "        print(\"Impute values for the following attributes\")\n",
    "        print(df_ohe.columns[idx])\n",
    "\n",
    "        df_imp = SimpleImputer(strategy=imp).fit_transform(df_ohe.loc[:,idx])\n",
    "        df_ohe.loc[:,idx] = df_imp\n",
    "        \n",
    "    return df_ohe, y"
   ]
  },
  {
   "cell_type": "code",
   "execution_count": 13,
   "metadata": {},
   "outputs": [
    {
     "name": "stdout",
     "output_type": "stream",
     "text": [
      "Impute values for the following attributes\n",
      "Index(['diag_1', 'diag_2', 'diag_3'], dtype='object')\n",
      "Impute values for the following attributes\n",
      "Index(['diag_1', 'diag_2', 'diag_3'], dtype='object')\n",
      "Impute values for the following attributes\n",
      "Index(['diag_1', 'diag_2', 'diag_3'], dtype='object')\n"
     ]
    }
   ],
   "source": [
    "X_train, y_train = prep_data(df_train)\n",
    "X_test, y_test = prep_data(df_test)\n",
    "X_val, y_val = prep_data(df_validate)"
   ]
  },
  {
   "cell_type": "code",
   "execution_count": 14,
   "metadata": {},
   "outputs": [],
   "source": [
    "from sklearn.ensemble import RandomForestClassifier\n",
    "clf = RandomForestClassifier(verbose = 1)"
   ]
  },
  {
   "cell_type": "code",
   "execution_count": 21,
   "metadata": {
    "scrolled": true
   },
   "outputs": [
    {
     "name": "stdout",
     "output_type": "stream",
     "text": [
      "(6000, 132)\n",
      "(2000, 135)\n"
     ]
    }
   ],
   "source": [
    "print(X_train.shape)\n",
    "print(X_test.shape)"
   ]
  },
  {
   "cell_type": "code",
   "execution_count": 16,
   "metadata": {
    "scrolled": true
   },
   "outputs": [
    {
     "name": "stderr",
     "output_type": "stream",
     "text": [
      "[Parallel(n_jobs=1)]: Using backend SequentialBackend with 1 concurrent workers.\n",
      "[Parallel(n_jobs=1)]: Done  10 out of  10 | elapsed:    0.1s finished\n"
     ]
    },
    {
     "ename": "ValueError",
     "evalue": "Number of features of the model must match the input. Model n_features is 132 and input n_features is 135 ",
     "output_type": "error",
     "traceback": [
      "\u001b[0;31m---------------------------------------------------------------------------\u001b[0m",
      "\u001b[0;31mValueError\u001b[0m                                Traceback (most recent call last)",
      "\u001b[0;32m<ipython-input-16-4ebaa3e2b90c>\u001b[0m in \u001b[0;36m<module>\u001b[0;34m\u001b[0m\n\u001b[1;32m      1\u001b[0m \u001b[0mclf\u001b[0m\u001b[0;34m.\u001b[0m\u001b[0mfit\u001b[0m\u001b[0;34m(\u001b[0m\u001b[0mX_train\u001b[0m\u001b[0;34m.\u001b[0m\u001b[0mvalues\u001b[0m\u001b[0;34m,\u001b[0m\u001b[0my_train\u001b[0m\u001b[0;34m)\u001b[0m\u001b[0;34m\u001b[0m\u001b[0;34m\u001b[0m\u001b[0m\n\u001b[0;32m----> 2\u001b[0;31m \u001b[0mpred_test\u001b[0m \u001b[0;34m=\u001b[0m \u001b[0mclf\u001b[0m\u001b[0;34m.\u001b[0m\u001b[0mpredict\u001b[0m\u001b[0;34m(\u001b[0m\u001b[0mX_test\u001b[0m\u001b[0;34m.\u001b[0m\u001b[0mvalues\u001b[0m\u001b[0;34m)\u001b[0m\u001b[0;34m\u001b[0m\u001b[0;34m\u001b[0m\u001b[0m\n\u001b[0m",
      "\u001b[0;32m/anaconda3/lib/python3.7/site-packages/sklearn/ensemble/forest.py\u001b[0m in \u001b[0;36mpredict\u001b[0;34m(self, X)\u001b[0m\n\u001b[1;32m    541\u001b[0m             \u001b[0mThe\u001b[0m \u001b[0mpredicted\u001b[0m \u001b[0mclasses\u001b[0m\u001b[0;34m.\u001b[0m\u001b[0;34m\u001b[0m\u001b[0;34m\u001b[0m\u001b[0m\n\u001b[1;32m    542\u001b[0m         \"\"\"\n\u001b[0;32m--> 543\u001b[0;31m         \u001b[0mproba\u001b[0m \u001b[0;34m=\u001b[0m \u001b[0mself\u001b[0m\u001b[0;34m.\u001b[0m\u001b[0mpredict_proba\u001b[0m\u001b[0;34m(\u001b[0m\u001b[0mX\u001b[0m\u001b[0;34m)\u001b[0m\u001b[0;34m\u001b[0m\u001b[0;34m\u001b[0m\u001b[0m\n\u001b[0m\u001b[1;32m    544\u001b[0m \u001b[0;34m\u001b[0m\u001b[0m\n\u001b[1;32m    545\u001b[0m         \u001b[0;32mif\u001b[0m \u001b[0mself\u001b[0m\u001b[0;34m.\u001b[0m\u001b[0mn_outputs_\u001b[0m \u001b[0;34m==\u001b[0m \u001b[0;36m1\u001b[0m\u001b[0;34m:\u001b[0m\u001b[0;34m\u001b[0m\u001b[0;34m\u001b[0m\u001b[0m\n",
      "\u001b[0;32m/anaconda3/lib/python3.7/site-packages/sklearn/ensemble/forest.py\u001b[0m in \u001b[0;36mpredict_proba\u001b[0;34m(self, X)\u001b[0m\n\u001b[1;32m    581\u001b[0m         \u001b[0mcheck_is_fitted\u001b[0m\u001b[0;34m(\u001b[0m\u001b[0mself\u001b[0m\u001b[0;34m,\u001b[0m \u001b[0;34m'estimators_'\u001b[0m\u001b[0;34m)\u001b[0m\u001b[0;34m\u001b[0m\u001b[0;34m\u001b[0m\u001b[0m\n\u001b[1;32m    582\u001b[0m         \u001b[0;31m# Check data\u001b[0m\u001b[0;34m\u001b[0m\u001b[0;34m\u001b[0m\u001b[0;34m\u001b[0m\u001b[0m\n\u001b[0;32m--> 583\u001b[0;31m         \u001b[0mX\u001b[0m \u001b[0;34m=\u001b[0m \u001b[0mself\u001b[0m\u001b[0;34m.\u001b[0m\u001b[0m_validate_X_predict\u001b[0m\u001b[0;34m(\u001b[0m\u001b[0mX\u001b[0m\u001b[0;34m)\u001b[0m\u001b[0;34m\u001b[0m\u001b[0;34m\u001b[0m\u001b[0m\n\u001b[0m\u001b[1;32m    584\u001b[0m \u001b[0;34m\u001b[0m\u001b[0m\n\u001b[1;32m    585\u001b[0m         \u001b[0;31m# Assign chunk of trees to jobs\u001b[0m\u001b[0;34m\u001b[0m\u001b[0;34m\u001b[0m\u001b[0;34m\u001b[0m\u001b[0m\n",
      "\u001b[0;32m/anaconda3/lib/python3.7/site-packages/sklearn/ensemble/forest.py\u001b[0m in \u001b[0;36m_validate_X_predict\u001b[0;34m(self, X)\u001b[0m\n\u001b[1;32m    360\u001b[0m                                  \"call `fit` before exploiting the model.\")\n\u001b[1;32m    361\u001b[0m \u001b[0;34m\u001b[0m\u001b[0m\n\u001b[0;32m--> 362\u001b[0;31m         \u001b[0;32mreturn\u001b[0m \u001b[0mself\u001b[0m\u001b[0;34m.\u001b[0m\u001b[0mestimators_\u001b[0m\u001b[0;34m[\u001b[0m\u001b[0;36m0\u001b[0m\u001b[0;34m]\u001b[0m\u001b[0;34m.\u001b[0m\u001b[0m_validate_X_predict\u001b[0m\u001b[0;34m(\u001b[0m\u001b[0mX\u001b[0m\u001b[0;34m,\u001b[0m \u001b[0mcheck_input\u001b[0m\u001b[0;34m=\u001b[0m\u001b[0;32mTrue\u001b[0m\u001b[0;34m)\u001b[0m\u001b[0;34m\u001b[0m\u001b[0;34m\u001b[0m\u001b[0m\n\u001b[0m\u001b[1;32m    363\u001b[0m \u001b[0;34m\u001b[0m\u001b[0m\n\u001b[1;32m    364\u001b[0m     \u001b[0;34m@\u001b[0m\u001b[0mproperty\u001b[0m\u001b[0;34m\u001b[0m\u001b[0;34m\u001b[0m\u001b[0m\n",
      "\u001b[0;32m/anaconda3/lib/python3.7/site-packages/sklearn/tree/tree.py\u001b[0m in \u001b[0;36m_validate_X_predict\u001b[0;34m(self, X, check_input)\u001b[0m\n\u001b[1;32m    386\u001b[0m                              \u001b[0;34m\"match the input. Model n_features is %s and \"\u001b[0m\u001b[0;34m\u001b[0m\u001b[0;34m\u001b[0m\u001b[0m\n\u001b[1;32m    387\u001b[0m                              \u001b[0;34m\"input n_features is %s \"\u001b[0m\u001b[0;34m\u001b[0m\u001b[0;34m\u001b[0m\u001b[0m\n\u001b[0;32m--> 388\u001b[0;31m                              % (self.n_features_, n_features))\n\u001b[0m\u001b[1;32m    389\u001b[0m \u001b[0;34m\u001b[0m\u001b[0m\n\u001b[1;32m    390\u001b[0m         \u001b[0;32mreturn\u001b[0m \u001b[0mX\u001b[0m\u001b[0;34m\u001b[0m\u001b[0;34m\u001b[0m\u001b[0m\n",
      "\u001b[0;31mValueError\u001b[0m: Number of features of the model must match the input. Model n_features is 132 and input n_features is 135 "
     ]
    }
   ],
   "source": [
    "clf.fit(X_train.values,y_train)\n",
    "pred_test = clf.predict(X_test)"
   ]
  },
  {
   "cell_type": "code",
   "execution_count": 10,
   "metadata": {},
   "outputs": [],
   "source": [
    "from sklearn.metrics import accuracy_score\n",
    "from sklearn.metrics import confusion_matrix\n",
    "\n",
    "acc = accuracy_score(y_test, pred_test)\n",
    "conf_mat = confusion_matrix(y_test, pred_test)"
   ]
  },
  {
   "cell_type": "code",
   "execution_count": 11,
   "metadata": {},
   "outputs": [
    {
     "data": {
      "text/plain": [
       "0.9825"
      ]
     },
     "execution_count": 11,
     "metadata": {},
     "output_type": "execute_result"
    }
   ],
   "source": [
    "acc"
   ]
  },
  {
   "cell_type": "code",
   "execution_count": 12,
   "metadata": {},
   "outputs": [
    {
     "data": {
      "text/plain": [
       "array([[3614,    7],\n",
       "       [  98, 2281]])"
      ]
     },
     "execution_count": 12,
     "metadata": {},
     "output_type": "execute_result"
    }
   ],
   "source": [
    "conf_mat"
   ]
  },
  {
   "cell_type": "code",
   "execution_count": null,
   "metadata": {},
   "outputs": [],
   "source": []
  }
 ],
 "metadata": {
  "kernelspec": {
   "display_name": "Python 3",
   "language": "python",
   "name": "python3"
  },
  "language_info": {
   "codemirror_mode": {
    "name": "ipython",
    "version": 3
   },
   "file_extension": ".py",
   "mimetype": "text/x-python",
   "name": "python",
   "nbconvert_exporter": "python",
   "pygments_lexer": "ipython3",
   "version": "3.7.1"
  },
  "varInspector": {
   "cols": {
    "lenName": 16,
    "lenType": 16,
    "lenVar": 40
   },
   "kernels_config": {
    "python": {
     "delete_cmd_postfix": "",
     "delete_cmd_prefix": "del ",
     "library": "var_list.py",
     "varRefreshCmd": "print(var_dic_list())"
    },
    "r": {
     "delete_cmd_postfix": ") ",
     "delete_cmd_prefix": "rm(",
     "library": "var_list.r",
     "varRefreshCmd": "cat(var_dic_list()) "
    }
   },
   "types_to_exclude": [
    "module",
    "function",
    "builtin_function_or_method",
    "instance",
    "_Feature"
   ],
   "window_display": false
  }
 },
 "nbformat": 4,
 "nbformat_minor": 2
}
